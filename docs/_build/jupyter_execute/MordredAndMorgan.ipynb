{
 "cells": [
  {
   "attachments": {},
   "cell_type": "markdown",
   "metadata": {},
   "source": [
    "## Mordred and Morgan "
   ]
  },
  {
   "cell_type": "code",
   "execution_count": 2,
   "metadata": {},
   "outputs": [],
   "source": [
    "# Computing mordred and morgan features and building a model from these features"
   ]
  },
  {
   "cell_type": "code",
   "execution_count": 22,
   "metadata": {},
   "outputs": [],
   "source": [
    "%matplotlib inline\n",
    "\n",
    "import Utils as model_helpers\n",
    "import numpy as np\n",
    "import pandas as pd\n",
    "from sklearn.preprocessing import StandardScaler"
   ]
  },
  {
   "attachments": {},
   "cell_type": "markdown",
   "metadata": {},
   "source": [
    "Computing Features"
   ]
  },
  {
   "cell_type": "code",
   "execution_count": 4,
   "metadata": {},
   "outputs": [],
   "source": [
    "half_enantiomer_data = pd.read_csv(\"half_enantiomer_data.csv\")"
   ]
  },
  {
   "cell_type": "code",
   "execution_count": 5,
   "metadata": {},
   "outputs": [],
   "source": [
    "# Remove line separaters\n",
    "half_enantiomer_data[\"SMILES String\"] = half_enantiomer_data[\"SMILES String\"].apply(lambda x : x.replace(\"\\\\n\", \"\") and x.replace(\"\\\\r\", \"\"))\n",
    "half_enantiomer_data[\"SMILES String\"] = half_enantiomer_data[\"SMILES String\"].apply(lambda x : x.replace(\"\\\\n\", \"\"))"
   ]
  },
  {
   "cell_type": "code",
   "execution_count": 6,
   "metadata": {},
   "outputs": [
    {
     "name": "stdout",
     "output_type": "stream",
     "text": [
      "Convering SMILES string to Mol format...\n",
      "Computing 3D coordinates...\n",
      "Removing CC1=C2CC(CC1C3(CC4CC(=C3C)C4(C)C)C5[C@@H](O)C6CC(=C5C)C6(C)C)C2(C)C due to failed embedding\n",
      "Computing Mordred features...\n"
     ]
    },
    {
     "name": "stderr",
     "output_type": "stream",
     "text": [
      "100%|██████████| 206/206 [00:12<00:00, 16.57it/s]\n"
     ]
    },
    {
     "name": "stdout",
     "output_type": "stream",
     "text": [
      "There are 206 molecules and 1826 features\n"
     ]
    }
   ],
   "source": [
    "# Calculate the mordred features\n",
    "mordred_data = model_helpers.calculate_features(half_enantiomer_data, \"mordred\")"
   ]
  },
  {
   "cell_type": "code",
   "execution_count": 7,
   "metadata": {},
   "outputs": [
    {
     "name": "stderr",
     "output_type": "stream",
     "text": [
      "[11:40:49] WARNING: not removing hydrogen atom without neighbors\n",
      "[11:40:52] Explicit valence for atom # 1 Si, 8, is greater than permitted\n",
      "[11:40:52] Explicit valence for atom # 3 Si, 8, is greater than permitted\n",
      "[11:40:53] Explicit valence for atom # 1 Si, 8, is greater than permitted\n",
      "[11:40:53] Explicit valence for atom # 1 Si, 8, is greater than permitted\n",
      "[11:41:00] WARNING: not removing hydrogen atom without neighbors\n",
      "[11:41:00] WARNING: not removing hydrogen atom without neighbors\n",
      "[11:41:00] WARNING: not removing hydrogen atom without neighbors\n",
      "[11:41:00] WARNING: not removing hydrogen atom without neighbors\n",
      "[11:41:03] WARNING: not removing hydrogen atom without neighbors\n",
      "[11:41:04] WARNING: not removing hydrogen atom without neighbors\n",
      "[11:41:04] WARNING: not removing hydrogen atom without neighbors\n",
      "[11:41:04] WARNING: not removing hydrogen atom without neighbors\n",
      "[11:41:04] WARNING: not removing hydrogen atom without neighbors\n",
      "[11:41:05] WARNING: not removing hydrogen atom without neighbors\n",
      "[11:41:05] WARNING: not removing hydrogen atom without neighbors\n",
      "[11:41:05] WARNING: not removing hydrogen atom without neighbors\n",
      "[11:41:06] WARNING: not removing hydrogen atom without neighbors\n",
      "[11:41:06] WARNING: not removing hydrogen atom without neighbors\n",
      "[11:41:06] WARNING: not removing hydrogen atom without neighbors\n",
      "[11:41:06] WARNING: not removing hydrogen atom without neighbors\n",
      "[11:41:06] WARNING: not removing hydrogen atom without neighbors\n",
      "[11:41:06] WARNING: not removing hydrogen atom without neighbors\n",
      "[11:41:06] WARNING: not removing hydrogen atom without neighbors\n",
      "[11:41:06] WARNING: not removing hydrogen atom without neighbors\n",
      "[11:41:07] WARNING: not removing hydrogen atom without neighbors\n"
     ]
    },
    {
     "name": "stdout",
     "output_type": "stream",
     "text": [
      "207 similarity features for 21685 molecules\n"
     ]
    },
    {
     "name": "stderr",
     "output_type": "stream",
     "text": [
      "[11:41:07] WARNING: not removing hydrogen atom without neighbors\n",
      "[11:41:07] WARNING: not removing hydrogen atom without neighbors\n",
      "[11:41:07] WARNING: not removing hydrogen atom without neighbors\n"
     ]
    }
   ],
   "source": [
    "# Calculate the morgan features\n",
    "morgan_data = model_helpers.calculate_features(half_enantiomer_data, \"morgan\")"
   ]
  },
  {
   "cell_type": "code",
   "execution_count": 8,
   "metadata": {},
   "outputs": [],
   "source": [
    "#zero_var_cols = [mordred_data[col] for col in mordred_data.iloc[:,11:] if (mordred_data[col].var() > 0) == True]\n",
    "#mordred_data.drop(columns)"
   ]
  },
  {
   "cell_type": "code",
   "execution_count": 9,
   "metadata": {},
   "outputs": [],
   "source": [
    "# Dataframe with molecules that have mordred and morgan features computed\n",
    "common_index = mordred_data.index.intersection(morgan_data.index)\n",
    "mordred_data = mordred_data.loc[common_index]\n",
    "morgan_data = morgan_data.loc[common_index]"
   ]
  },
  {
   "cell_type": "code",
   "execution_count": 10,
   "metadata": {},
   "outputs": [],
   "source": [
    "# Reset index\n",
    "mordred_data.set_index('Molecule Name').head().iloc[:, 10:];\n",
    "morgan_data.set_index('Molecule Name').head().iloc[:, 10:];"
   ]
  },
  {
   "cell_type": "code",
   "execution_count": 11,
   "metadata": {},
   "outputs": [
    {
     "data": {
      "text/html": [
       "<div>\n",
       "<style scoped>\n",
       "    .dataframe tbody tr th:only-of-type {\n",
       "        vertical-align: middle;\n",
       "    }\n",
       "\n",
       "    .dataframe tbody tr th {\n",
       "        vertical-align: top;\n",
       "    }\n",
       "\n",
       "    .dataframe thead th {\n",
       "        text-align: right;\n",
       "    }\n",
       "</style>\n",
       "<table border=\"1\" class=\"dataframe\">\n",
       "  <thead>\n",
       "    <tr style=\"text-align: right;\">\n",
       "      <th></th>\n",
       "      <th>Unnamed: 0</th>\n",
       "      <th>Unnamed: 0.1</th>\n",
       "      <th>Molecule Name</th>\n",
       "      <th>Pubchem ID #</th>\n",
       "      <th>Note</th>\n",
       "      <th>Other SMILES</th>\n",
       "      <th>Method</th>\n",
       "      <th>Contributor</th>\n",
       "      <th>Detection Threshold</th>\n",
       "      <th>Detection Units</th>\n",
       "      <th>...</th>\n",
       "      <th>O.[OH-].[O].[O-][Si](=O)[O-].[Mg].[Al].[Fe]</th>\n",
       "      <th>CCCCOC(=O)/C=C\\C(=O)OCCCC.CC(=O)OC=C.C[C@]12CC[C@H](C1(C)C)C[C@@H]2OC(=O)C=C</th>\n",
       "      <th>C=CC(=O)N.C=CC(=O)O.[Na]</th>\n",
       "      <th>C[Si](C)(Cl)Cl.O=[Si]=O</th>\n",
       "      <th>CCCC/C=C/CCO.CC(=O)O</th>\n",
       "      <th>CN(C)CCCNC(=O)NCCCN(C)C.C(CCl)OCCCl</th>\n",
       "      <th>C(=O)([O-])[O-].O.[OH-].[OH-].[OH-].[OH-].[OH-].[OH-].[OH-].[Mg+2].[Al+3]</th>\n",
       "      <th>CCC/C=C/CO.C1=CC=C(C=C1)C(=O)O</th>\n",
       "      <th>CC(=C)C(=O)NCCC[N+](C)(C)C.COC(=O)C=C.C=CC(=O)O.[Cl-]</th>\n",
       "      <th>C(C(C(F)(F)F)(OC(C(C(F)(F)F)(OC(C(C(F)(F)F)(O)F)(F)F)F)(F)F)F)(F)F</th>\n",
       "    </tr>\n",
       "  </thead>\n",
       "  <tbody>\n",
       "    <tr>\n",
       "      <th>\\rCC(=O)C(/C)=C/[C@H]1C(=CCCC1(C)C)C\\r</th>\n",
       "      <td>406</td>\n",
       "      <td>406</td>\n",
       "      <td>(+)-(6R)-alpha-Iso-methylionone (ee = 94%)</td>\n",
       "      <td>5372174</td>\n",
       "      <td>NaN</td>\n",
       "      <td>\\rCC(=O)C(/C)=C/[C@H]1C(=CCCC1(C)C)C\\r</td>\n",
       "      <td>chem draw + cactus</td>\n",
       "      <td>LC</td>\n",
       "      <td>7.90E-02</td>\n",
       "      <td>ng/L air</td>\n",
       "      <td>...</td>\n",
       "      <td>0.032258</td>\n",
       "      <td>0.202247</td>\n",
       "      <td>0.140845</td>\n",
       "      <td>0.093750</td>\n",
       "      <td>0.157303</td>\n",
       "      <td>0.104478</td>\n",
       "      <td>0.090909</td>\n",
       "      <td>0.142857</td>\n",
       "      <td>0.189655</td>\n",
       "      <td>0.000000</td>\n",
       "    </tr>\n",
       "    <tr>\n",
       "      <th>\\rCCCCCC[C@H](C)Oc1cnccn1</th>\n",
       "      <td>320</td>\n",
       "      <td>320</td>\n",
       "      <td>(+)-2-{[(1S)-1-methylheptyl]oxy}pyrazine</td>\n",
       "      <td>122379392</td>\n",
       "      <td>NaN</td>\n",
       "      <td>\\rCCCCCC[C@H](C)Oc1cnccn1\\r</td>\n",
       "      <td>chem draw + cactus</td>\n",
       "      <td>LC</td>\n",
       "      <td>3.00E+01</td>\n",
       "      <td>NaN</td>\n",
       "      <td>...</td>\n",
       "      <td>0.000000</td>\n",
       "      <td>0.134715</td>\n",
       "      <td>0.000000</td>\n",
       "      <td>0.050633</td>\n",
       "      <td>0.211538</td>\n",
       "      <td>0.134228</td>\n",
       "      <td>0.000000</td>\n",
       "      <td>0.176991</td>\n",
       "      <td>0.106870</td>\n",
       "      <td>0.026846</td>\n",
       "    </tr>\n",
       "    <tr>\n",
       "      <th>\\rCC[C@H](C)Oc1cnccn1\\r</th>\n",
       "      <td>314</td>\n",
       "      <td>314</td>\n",
       "      <td>(+)-2-{[(1S)-1-methylpropyl]oxy}pyrazine</td>\n",
       "      <td>520098</td>\n",
       "      <td>CAS No.24168-70-5 from https://www.sigmaaldric...</td>\n",
       "      <td>\\rCC[C@H](C)Oc1cnccn1\\r</td>\n",
       "      <td>chem draw + cactus</td>\n",
       "      <td>LC</td>\n",
       "      <td>1.00E+02</td>\n",
       "      <td>NaN</td>\n",
       "      <td>...</td>\n",
       "      <td>0.000000</td>\n",
       "      <td>0.059524</td>\n",
       "      <td>0.000000</td>\n",
       "      <td>0.074074</td>\n",
       "      <td>0.101266</td>\n",
       "      <td>0.064516</td>\n",
       "      <td>0.000000</td>\n",
       "      <td>0.159091</td>\n",
       "      <td>0.075472</td>\n",
       "      <td>0.032258</td>\n",
       "    </tr>\n",
       "    <tr>\n",
       "      <th>\\rC[C@H]1OCC[C@@H]1SC(C)=O</th>\n",
       "      <td>366</td>\n",
       "      <td>366</td>\n",
       "      <td>(2R,3S)-(+)-2-methyltetrahydrofuran-3-thiol ac...</td>\n",
       "      <td>7157263</td>\n",
       "      <td>https://pubchem.ncbi.nlm.nih.gov/compound/2S_3...</td>\n",
       "      <td>\\rC[C@H]1OCC[C@@H]1SC(C)=O\\r</td>\n",
       "      <td>chem draw + cactus</td>\n",
       "      <td>LC</td>\n",
       "      <td>1.86E+01</td>\n",
       "      <td>ng/L air</td>\n",
       "      <td>...</td>\n",
       "      <td>0.044444</td>\n",
       "      <td>0.136646</td>\n",
       "      <td>0.111111</td>\n",
       "      <td>0.127660</td>\n",
       "      <td>0.166667</td>\n",
       "      <td>0.085470</td>\n",
       "      <td>0.122449</td>\n",
       "      <td>0.098765</td>\n",
       "      <td>0.121212</td>\n",
       "      <td>0.000000</td>\n",
       "    </tr>\n",
       "    <tr>\n",
       "      <th>C(CC(=O)O)[C@@H](C(=O)O)N</th>\n",
       "      <td>24</td>\n",
       "      <td>24</td>\n",
       "      <td>L-(-)-glutamatic acid</td>\n",
       "      <td>33032</td>\n",
       "      <td>NaN</td>\n",
       "      <td>NaN</td>\n",
       "      <td>NaN</td>\n",
       "      <td>NaN</td>\n",
       "      <td>4.00E-01</td>\n",
       "      <td>ug/L in water</td>\n",
       "      <td>...</td>\n",
       "      <td>0.047619</td>\n",
       "      <td>0.101266</td>\n",
       "      <td>0.352941</td>\n",
       "      <td>0.090909</td>\n",
       "      <td>0.231884</td>\n",
       "      <td>0.087719</td>\n",
       "      <td>0.130435</td>\n",
       "      <td>0.205128</td>\n",
       "      <td>0.208333</td>\n",
       "      <td>0.035088</td>\n",
       "    </tr>\n",
       "  </tbody>\n",
       "</table>\n",
       "<p>5 rows × 23533 columns</p>\n",
       "</div>"
      ],
      "text/plain": [
       "                                        Unnamed: 0  Unnamed: 0.1  \\\n",
       "\\rCC(=O)C(/C)=C/[C@H]1C(=CCCC1(C)C)C\\r         406           406   \n",
       "\\rCCCCCC[C@H](C)Oc1cnccn1                      320           320   \n",
       "\\rCC[C@H](C)Oc1cnccn1\\r                        314           314   \n",
       "\\rC[C@H]1OCC[C@@H]1SC(C)=O                     366           366   \n",
       "C(CC(=O)O)[C@@H](C(=O)O)N                       24            24   \n",
       "\n",
       "                                                                            Molecule Name  \\\n",
       "\\rCC(=O)C(/C)=C/[C@H]1C(=CCCC1(C)C)C\\r         (+)-(6R)-alpha-Iso-methylionone (ee = 94%)   \n",
       "\\rCCCCCC[C@H](C)Oc1cnccn1                        (+)-2-{[(1S)-1-methylheptyl]oxy}pyrazine   \n",
       "\\rCC[C@H](C)Oc1cnccn1\\r                          (+)-2-{[(1S)-1-methylpropyl]oxy}pyrazine   \n",
       "\\rC[C@H]1OCC[C@@H]1SC(C)=O              (2R,3S)-(+)-2-methyltetrahydrofuran-3-thiol ac...   \n",
       "C(CC(=O)O)[C@@H](C(=O)O)N                                           L-(-)-glutamatic acid   \n",
       "\n",
       "                                        Pubchem ID #  \\\n",
       "\\rCC(=O)C(/C)=C/[C@H]1C(=CCCC1(C)C)C\\r       5372174   \n",
       "\\rCCCCCC[C@H](C)Oc1cnccn1                  122379392   \n",
       "\\rCC[C@H](C)Oc1cnccn1\\r                       520098   \n",
       "\\rC[C@H]1OCC[C@@H]1SC(C)=O                   7157263   \n",
       "C(CC(=O)O)[C@@H](C(=O)O)N                      33032   \n",
       "\n",
       "                                                                                     Note  \\\n",
       "\\rCC(=O)C(/C)=C/[C@H]1C(=CCCC1(C)C)C\\r                                                NaN   \n",
       "\\rCCCCCC[C@H](C)Oc1cnccn1                                                             NaN   \n",
       "\\rCC[C@H](C)Oc1cnccn1\\r                 CAS No.24168-70-5 from https://www.sigmaaldric...   \n",
       "\\rC[C@H]1OCC[C@@H]1SC(C)=O              https://pubchem.ncbi.nlm.nih.gov/compound/2S_3...   \n",
       "C(CC(=O)O)[C@@H](C(=O)O)N                                                             NaN   \n",
       "\n",
       "                                                                  Other SMILES  \\\n",
       "\\rCC(=O)C(/C)=C/[C@H]1C(=CCCC1(C)C)C\\r  \\rCC(=O)C(/C)=C/[C@H]1C(=CCCC1(C)C)C\\r   \n",
       "\\rCCCCCC[C@H](C)Oc1cnccn1                          \\rCCCCCC[C@H](C)Oc1cnccn1\\r   \n",
       "\\rCC[C@H](C)Oc1cnccn1\\r                                \\rCC[C@H](C)Oc1cnccn1\\r   \n",
       "\\rC[C@H]1OCC[C@@H]1SC(C)=O                        \\rC[C@H]1OCC[C@@H]1SC(C)=O\\r   \n",
       "C(CC(=O)O)[C@@H](C(=O)O)N                                                  NaN   \n",
       "\n",
       "                                                    Method Contributor  \\\n",
       "\\rCC(=O)C(/C)=C/[C@H]1C(=CCCC1(C)C)C\\r  chem draw + cactus          LC   \n",
       "\\rCCCCCC[C@H](C)Oc1cnccn1               chem draw + cactus          LC   \n",
       "\\rCC[C@H](C)Oc1cnccn1\\r                 chem draw + cactus          LC   \n",
       "\\rC[C@H]1OCC[C@@H]1SC(C)=O              chem draw + cactus          LC   \n",
       "C(CC(=O)O)[C@@H](C(=O)O)N                              NaN         NaN   \n",
       "\n",
       "                                       Detection Threshold Detection Units  \\\n",
       "\\rCC(=O)C(/C)=C/[C@H]1C(=CCCC1(C)C)C\\r            7.90E-02        ng/L air   \n",
       "\\rCCCCCC[C@H](C)Oc1cnccn1                         3.00E+01             NaN   \n",
       "\\rCC[C@H](C)Oc1cnccn1\\r                           1.00E+02             NaN   \n",
       "\\rC[C@H]1OCC[C@@H]1SC(C)=O                        1.86E+01        ng/L air   \n",
       "C(CC(=O)O)[C@@H](C(=O)O)N                         4.00E-01   ug/L in water   \n",
       "\n",
       "                                        ...  \\\n",
       "\\rCC(=O)C(/C)=C/[C@H]1C(=CCCC1(C)C)C\\r  ...   \n",
       "\\rCCCCCC[C@H](C)Oc1cnccn1               ...   \n",
       "\\rCC[C@H](C)Oc1cnccn1\\r                 ...   \n",
       "\\rC[C@H]1OCC[C@@H]1SC(C)=O              ...   \n",
       "C(CC(=O)O)[C@@H](C(=O)O)N               ...   \n",
       "\n",
       "                                        O.[OH-].[O].[O-][Si](=O)[O-].[Mg].[Al].[Fe]  \\\n",
       "\\rCC(=O)C(/C)=C/[C@H]1C(=CCCC1(C)C)C\\r                                     0.032258   \n",
       "\\rCCCCCC[C@H](C)Oc1cnccn1                                                  0.000000   \n",
       "\\rCC[C@H](C)Oc1cnccn1\\r                                                    0.000000   \n",
       "\\rC[C@H]1OCC[C@@H]1SC(C)=O                                                 0.044444   \n",
       "C(CC(=O)O)[C@@H](C(=O)O)N                                                  0.047619   \n",
       "\n",
       "                                       CCCCOC(=O)/C=C\\C(=O)OCCCC.CC(=O)OC=C.C[C@]12CC[C@H](C1(C)C)C[C@@H]2OC(=O)C=C  \\\n",
       "\\rCC(=O)C(/C)=C/[C@H]1C(=CCCC1(C)C)C\\r                                           0.202247                             \n",
       "\\rCCCCCC[C@H](C)Oc1cnccn1                                                        0.134715                             \n",
       "\\rCC[C@H](C)Oc1cnccn1\\r                                                          0.059524                             \n",
       "\\rC[C@H]1OCC[C@@H]1SC(C)=O                                                       0.136646                             \n",
       "C(CC(=O)O)[C@@H](C(=O)O)N                                                        0.101266                             \n",
       "\n",
       "                                       C=CC(=O)N.C=CC(=O)O.[Na]  \\\n",
       "\\rCC(=O)C(/C)=C/[C@H]1C(=CCCC1(C)C)C\\r                 0.140845   \n",
       "\\rCCCCCC[C@H](C)Oc1cnccn1                              0.000000   \n",
       "\\rCC[C@H](C)Oc1cnccn1\\r                                0.000000   \n",
       "\\rC[C@H]1OCC[C@@H]1SC(C)=O                             0.111111   \n",
       "C(CC(=O)O)[C@@H](C(=O)O)N                              0.352941   \n",
       "\n",
       "                                        C[Si](C)(Cl)Cl.O=[Si]=O  \\\n",
       "\\rCC(=O)C(/C)=C/[C@H]1C(=CCCC1(C)C)C\\r                 0.093750   \n",
       "\\rCCCCCC[C@H](C)Oc1cnccn1                              0.050633   \n",
       "\\rCC[C@H](C)Oc1cnccn1\\r                                0.074074   \n",
       "\\rC[C@H]1OCC[C@@H]1SC(C)=O                             0.127660   \n",
       "C(CC(=O)O)[C@@H](C(=O)O)N                              0.090909   \n",
       "\n",
       "                                        CCCC/C=C/CCO.CC(=O)O  \\\n",
       "\\rCC(=O)C(/C)=C/[C@H]1C(=CCCC1(C)C)C\\r              0.157303   \n",
       "\\rCCCCCC[C@H](C)Oc1cnccn1                           0.211538   \n",
       "\\rCC[C@H](C)Oc1cnccn1\\r                             0.101266   \n",
       "\\rC[C@H]1OCC[C@@H]1SC(C)=O                          0.166667   \n",
       "C(CC(=O)O)[C@@H](C(=O)O)N                           0.231884   \n",
       "\n",
       "                                        CN(C)CCCNC(=O)NCCCN(C)C.C(CCl)OCCCl  \\\n",
       "\\rCC(=O)C(/C)=C/[C@H]1C(=CCCC1(C)C)C\\r                             0.104478   \n",
       "\\rCCCCCC[C@H](C)Oc1cnccn1                                          0.134228   \n",
       "\\rCC[C@H](C)Oc1cnccn1\\r                                            0.064516   \n",
       "\\rC[C@H]1OCC[C@@H]1SC(C)=O                                         0.085470   \n",
       "C(CC(=O)O)[C@@H](C(=O)O)N                                          0.087719   \n",
       "\n",
       "                                       C(=O)([O-])[O-].O.[OH-].[OH-].[OH-].[OH-].[OH-].[OH-].[OH-].[Mg+2].[Al+3]  \\\n",
       "\\rCC(=O)C(/C)=C/[C@H]1C(=CCCC1(C)C)C\\r                                           0.090909                          \n",
       "\\rCCCCCC[C@H](C)Oc1cnccn1                                                        0.000000                          \n",
       "\\rCC[C@H](C)Oc1cnccn1\\r                                                          0.000000                          \n",
       "\\rC[C@H]1OCC[C@@H]1SC(C)=O                                                       0.122449                          \n",
       "C(CC(=O)O)[C@@H](C(=O)O)N                                                        0.130435                          \n",
       "\n",
       "                                       CCC/C=C/CO.C1=CC=C(C=C1)C(=O)O  \\\n",
       "\\rCC(=O)C(/C)=C/[C@H]1C(=CCCC1(C)C)C\\r                       0.142857   \n",
       "\\rCCCCCC[C@H](C)Oc1cnccn1                                    0.176991   \n",
       "\\rCC[C@H](C)Oc1cnccn1\\r                                      0.159091   \n",
       "\\rC[C@H]1OCC[C@@H]1SC(C)=O                                   0.098765   \n",
       "C(CC(=O)O)[C@@H](C(=O)O)N                                    0.205128   \n",
       "\n",
       "                                       CC(=C)C(=O)NCCC[N+](C)(C)C.COC(=O)C=C.C=CC(=O)O.[Cl-]  \\\n",
       "\\rCC(=O)C(/C)=C/[C@H]1C(=CCCC1(C)C)C\\r                                           0.189655      \n",
       "\\rCCCCCC[C@H](C)Oc1cnccn1                                                        0.106870      \n",
       "\\rCC[C@H](C)Oc1cnccn1\\r                                                          0.075472      \n",
       "\\rC[C@H]1OCC[C@@H]1SC(C)=O                                                       0.121212      \n",
       "C(CC(=O)O)[C@@H](C(=O)O)N                                                        0.208333      \n",
       "\n",
       "                                       C(C(C(F)(F)F)(OC(C(C(F)(F)F)(OC(C(C(F)(F)F)(O)F)(F)F)F)(F)F)F)(F)F  \n",
       "\\rCC(=O)C(/C)=C/[C@H]1C(=CCCC1(C)C)C\\r                                           0.000000                  \n",
       "\\rCCCCCC[C@H](C)Oc1cnccn1                                                        0.026846                  \n",
       "\\rCC[C@H](C)Oc1cnccn1\\r                                                          0.032258                  \n",
       "\\rC[C@H]1OCC[C@@H]1SC(C)=O                                                       0.000000                  \n",
       "C(CC(=O)O)[C@@H](C(=O)O)N                                                        0.035088                  \n",
       "\n",
       "[5 rows x 23533 columns]"
      ]
     },
     "execution_count": 11,
     "metadata": {},
     "output_type": "execute_result"
    }
   ],
   "source": [
    "# Data frame that has both the mordred and morgan features\n",
    "both = mordred_data.join(morgan_data.iloc[:,10:], how=\"inner\", rsuffix='morg_')\n",
    "both.head()"
   ]
  },
  {
   "cell_type": "code",
   "execution_count": 12,
   "metadata": {},
   "outputs": [
    {
     "name": "stdout",
     "output_type": "stream",
     "text": [
      "340658911179732.4\n",
      "0.0\n"
     ]
    }
   ],
   "source": [
    "#Need to drop var columns\n",
    "print(both.var().max())\n",
    "print(both.var().min())"
   ]
  },
  {
   "cell_type": "code",
   "execution_count": 13,
   "metadata": {},
   "outputs": [],
   "source": [
    "# Gets all Mordred or Mogan features that have numeric values and not Null values\n",
    "# Joins the final mordred and morgan features \n",
    "finite_mordred = model_helpers.finite_features(mordred_data)\n",
    "finite_morgan = model_helpers.finite_features(morgan_data)\n",
    "both_features = finite_mordred | finite_morgan"
   ]
  },
  {
   "attachments": {},
   "cell_type": "markdown",
   "metadata": {},
   "source": [
    "Model"
   ]
  },
  {
   "cell_type": "code",
   "execution_count": 21,
   "metadata": {},
   "outputs": [],
   "source": [
    "# Illustrate the magnitude differences across enantiomeric pairs in the dataset\n",
    "model_helpers.fold_difference_of_enantiomers(half_enantiomer_data)"
   ]
  },
  {
   "cell_type": "code",
   "execution_count": 15,
   "metadata": {},
   "outputs": [],
   "source": [
    "# Gets the appropriate parameter values for mordred model\n",
    "# Gets the valid features (not null values) from feature data frame and the log_abs values from the feature dataframe\n",
    "X_morded = mordred_data[finite_mordred]\n",
    "y = mordred_data['log_abs']\n",
    "X_morded = X_morded[y < 10]\n",
    "y_mordred = y[y < 10]\n",
    "Xn_mordred = pd.DataFrame(StandardScaler().fit_transform(X_morded), index=X_morded.index, columns=X_morded.columns)"
   ]
  },
  {
   "cell_type": "code",
   "execution_count": 16,
   "metadata": {},
   "outputs": [],
   "source": [
    "# Gets the appropriate parameter values for Morgan model\n",
    "# Gets the valid features (not null values) from feature data frame and the log_abs values from the feature dataframe\n",
    "x_morgan = morgan_data[finite_morgan]\n",
    "y_morgan = morgan_data[\"log_abs\"]\n",
    "x_morgan = x_morgan[y_morgan < 10]\n",
    "y_morgan = y_morgan[y_morgan < 10]\n",
    "Xn_morgan = pd.DataFrame(StandardScaler().fit_transform(x_morgan), index=x_morgan.index, columns=x_morgan.columns)"
   ]
  },
  {
   "cell_type": "code",
   "execution_count": 17,
   "metadata": {},
   "outputs": [
    {
     "name": "stderr",
     "output_type": "stream",
     "text": [
      "100%|██████████| 13/13 [23:04<00:00, 106.52s/it]\n"
     ]
    }
   ],
   "source": [
    "# Model for Morgan dad\n",
    "model_helpers.create_model(Xn_morgan, y_morgan)"
   ]
  },
  {
   "cell_type": "code",
   "execution_count": 18,
   "metadata": {},
   "outputs": [],
   "source": [
    "model_helpers.cross_val(Xn_morgan, y_morgan)"
   ]
  },
  {
   "cell_type": "code",
   "execution_count": 19,
   "metadata": {},
   "outputs": [
    {
     "name": "stderr",
     "output_type": "stream",
     "text": [
      "100%|██████████| 13/13 [01:04<00:00,  4.97s/it]\n"
     ]
    }
   ],
   "source": [
    "# Model for Mordred data\n",
    "model_helpers.create_model(Xn_mordred, y_mordred)"
   ]
  },
  {
   "cell_type": "code",
   "execution_count": 23,
   "metadata": {},
   "outputs": [
    {
     "data": {
      "image/png": "[encoded data removed]",
      "text/plain": [
       "<Figure size 500x500 with 1 Axes>"
      ]
     },
     "metadata": {
      "filenames": {
       "image/png": "/mnt/c/Users/Owner/Documents/liyahswebsite/enantiomerlist/docs/_build/jupyter_execute/MordredAndMorgan_21_0.png"
      }
     },
     "output_type": "display_data"
    }
   ],
   "source": [
    "model_helpers.cross_val(Xn_mordred, y_mordred)"
   ]
  }
 ],
 "metadata": {
  "kernelspec": {
   "display_name": "base",
   "language": "python",
   "name": "python3"
  },
  "language_info": {
   "codemirror_mode": {
    "name": "ipython",
    "version": 3
   },
   "file_extension": ".py",
   "mimetype": "text/x-python",
   "name": "python",
   "nbconvert_exporter": "python",
   "pygments_lexer": "ipython3",
   "version": "3.7.3"
  },
  "vscode": {
   "interpreter": {
    "hash": "f48e850f9ba95f784ffa8abe9e192013ea9f7c58fba7063fff0218a6f7b5b546"
   }
  }
 },
 "nbformat": 4,
 "nbformat_minor": 2
}