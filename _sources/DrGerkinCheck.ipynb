{
 "cells": [
  {
   "attachments": {},
   "cell_type": "markdown",
   "metadata": {},
   "source": [
    "### Liyah, stop here.  I can explain what I am doing in the next section another time."
   ]
  },
  {
   "cell_type": "code",
   "execution_count": null,
   "metadata": {},
   "outputs": [],
   "source": [
    "# Dr. Gerkin you left this for me a while back but we never came back to it"
   ]
  },
  {
   "cell_type": "code",
   "execution_count": null,
   "metadata": {},
   "outputs": [],
   "source": [
    "from sklearn.feature_selection import RFE, RFECV\n",
    "svr = SVR(C=10, kernel='linear')\n",
    "rfe = RFE(svr, n_features_to_select=1, step=10)\n",
    "#rfe.fit(Xn, y)"
   ]
  },
  {
   "cell_type": "code",
   "execution_count": null,
   "metadata": {},
   "outputs": [],
   "source": [
    "rfe.ranking_.max()"
   ]
  },
  {
   "cell_type": "code",
   "execution_count": null,
   "metadata": {},
   "outputs": [],
   "source": [
    "svr = SVR(C=10, kernel='rbf')\n",
    "ns = range(1, 109, 1)\n",
    "rs = pd.Series(index=ns, dtype=float)\n",
    "for n in tqdm(ns):\n",
    "    Xn_ = Xn[Xn.columns[rfe.ranking_ <= n]]\n",
    "    y_predict = cross_val_predict(svr, Xn_, y, cv=LeaveOneOut(), n_jobs=-1)\n",
    "    rs[n] = np.corrcoef(y, y_predict)[0, 1]"
   ]
  },
  {
   "cell_type": "code",
   "execution_count": null,
   "metadata": {},
   "outputs": [],
   "source": [
    "rs.plot()"
   ]
  },
  {
   "cell_type": "code",
   "execution_count": null,
   "metadata": {},
   "outputs": [],
   "source": [
    "Cs = np.logspace(-3, 3, 13)\n",
    "rs_in = pd.Series(index=Cs, dtype=float)\n",
    "rs_out = pd.Series(index=Cs, dtype=float)\n",
    "rhos_out = pd.Series(index=Cs, dtype=float)\n",
    "Xn_ = Xn[Xn.columns[rfe.ranking_ <= 10]]\n",
    "for C in tqdm(Cs):\n",
    "    svr = SVR(C=C, kernel='rbf')\n",
    "    clf = svr\n",
    "    #y_predict = cross_val_predict(rfr, Xn, y, cv=LeaveOneOut(), n_jobs=-1)\n",
    "    clf.fit(Xn_, y)\n",
    "    y_predict_in = clf.predict(Xn_)\n",
    "    y_predict_out = cross_val_predict(clf, Xn_, y, cv=LeaveOneOut(), n_jobs=-1)\n",
    "    y_predict_in = np.clip(y_predict_in, 0, np.inf)\n",
    "    y_predict_out = np.clip(y_predict_out, 0, np.inf)\n",
    "    rs_in[C] = pearsonr(y, y_predict_in)[0]\n",
    "    rs_out[C] = pearsonr(y, y_predict_out)[0]\n",
    "    rhos_out[C] = spearmanr(y, y_predict_out)[0]"
   ]
  },
  {
   "cell_type": "code",
   "execution_count": null,
   "metadata": {},
   "outputs": [],
   "source": [
    "rs_in.plot(label='In-sample prediction R')\n",
    "rs_out.plot(label='Out-of-sample prediction R')\n",
    "rhos_out.plot(label=r'Out-of-sample prediction $\\rho$')\n",
    "plt.xscale('log')\n",
    "plt.ylabel('Correlation\\n(predicted vs observed)')\n",
    "plt.xlabel('C (SVR hyperparameter)')\n",
    "plt.legend(fontsize=10)"
   ]
  },
  {
   "cell_type": "code",
   "execution_count": null,
   "metadata": {},
   "outputs": [],
   "source": [
    "Xn_ = Xn[Xn.columns[rfe.ranking_ <= 10]]\n",
    "rfr = RandomForestRegressor(n_estimators=100)\n",
    "y_predict = cross_val_predict(rfr, Xn_, y, cv=LeaveOneOut(), n_jobs=-1)\n",
    "np.corrcoef(y, y_predict)[0, 1]"
   ]
  },
  {
   "cell_type": "code",
   "execution_count": null,
   "metadata": {},
   "outputs": [],
   "source": [
    "rfr.fit(Xn_, y)\n",
    "pd.Series(rfr.feature_importances_, Xn_.columns).sort_values(ascending=False).head(25)"
   ]
  },
  {
   "cell_type": "code",
   "execution_count": null,
   "metadata": {},
   "outputs": [],
   "source": [
    "from sklearn.model_selection import cross_val_predict\n",
    "from sklearn.model_selection import LeaveOneOut\n",
    "sns.set_style('whitegrid')\n",
    "svr = SVR(C=10, kernel='rbf')\n",
    "svr.fit(Xn_mordred, y_mordred)\n",
    "y_predict = cross_val_predict(svr, Xn_mordred, y_mordred, cv=LeaveOneOut(), n_jobs=-1)\n",
    "y_predict = np.clip(y_predict, 0, np.inf)\n",
    "plt.figure(figsize=(5, 5))\n",
    "plt.scatter(y_mordred, y_predict, alpha=0.3)\n",
    "#maxx = y.max()*1.01\n",
    "#plt.plot([0, maxx], [0, maxx], '--')\n",
    "plt.plot([0, 4], [0, 4], '--')\n",
    "plt.xlim(0, 4)\n",
    "plt.ylim(0, 4)\n",
    "#plt.xlim(0.9, maxx)\n",
    "#plt.ylim(0.9, maxx)\n",
    "plt.title('R = %.2g' % np.corrcoef(y_mordred, y_predict)[0, 1])\n",
    "#ticks = range(5)\n",
    "#plt.xticks(ticks)\n",
    "#plt.yticks(ticks)\n",
    "plt.xticks([1,2,3,4], [\"1x\", \"10x\", \"100x\", \"1000x\"])\n",
    "plt.yticks([1,2,3,4], [\"1x\", \"10x\", \"100x\", \"1000x\"])\n",
    "# plt.xticks(ticks, ['%d' % 10**x for x in ticks])\n",
    "# plt.yticks(ticks, ['%d' % 10**x for x in ticks])\n",
    "plt.xlabel('Actual Detection Threshold Ratio')\n",
    "plt.ylabel('Predicted Detection\\nThreshold Ratio')"
   ]
  },
  {
   "cell_type": "code",
   "execution_count": null,
   "metadata": {},
   "outputs": [],
   "source": [
    "from sklearn.model_selection import cross_val_predict\n",
    "from sklearn.model_selection import LeaveOneOut\n",
    "sns.set_style('whitegrid')\n",
    "svr = SVR(C=10, kernel='rbf')\n",
    "svr.fit(Xn_morgan, y_morgan)\n",
    "y_predict = cross_val_predict(svr, Xn_morgan, y_morgan, cv=LeaveOneOut(), n_jobs=-1)\n",
    "y_predict = np.clip(y_predict, 0, np.inf)\n",
    "plt.figure(figsize=(5, 5))\n",
    "plt.scatter(y_morgan, y_predict, alpha=0.3)\n",
    "plt.plot([0, 4], [0, 4], '--')\n",
    "plt.xlim(0, 4)\n",
    "plt.ylim(0, 4)\n",
    "plt.title('R = %.2g' % np.corrcoef(y_morgan, y_predict)[0, 1])\n",
    "plt.xticks([1,2,3,4], [\"1x\", \"10x\", \"100x\", \"1000x\"])\n",
    "plt.yticks([1,2,3,4], [\"1x\", \"10x\", \"100x\", \"1000x\"])\n",
    "plt.xlabel('Actual Detection Threshold Ratio')\n",
    "plt.ylabel('Predicted Detection\\nThreshold Ratio')"
   ]
  },
  {
   "cell_type": "code",
   "execution_count": null,
   "metadata": {},
   "outputs": [],
   "source": [
    "sns.heatmap(svr.support_vectors_, cmap='RdBu_r')"
   ]
  },
  {
   "cell_type": "code",
   "execution_count": null,
   "metadata": {},
   "outputs": [],
   "source": [
    "abraham = pyrfume.load_data('abraham_2011/abraham-2011-with-CIDs.csv')\n",
    "abraham = abraham.dropna(subset=['SMILES'])\n",
    "from pyrfume.features import smiles_to_mordred\n",
    "abraham_mordred = smiles_to_mordred(abraham['SMILES'].values)"
   ]
  },
  {
   "cell_type": "code",
   "execution_count": null,
   "metadata": {},
   "outputs": [],
   "source": [
    "#X = abraham_mordred.join(abraham.set_index('SMILES').drop(['Substance', 'Group'], axis=1), how='inner', rsuffix='abr_')\n",
    "abe_ok = ['MW',\n",
    " 'Log (1/ODT)',\n",
    " 'E',\n",
    " 'S',\n",
    " 'A',\n",
    " 'B',\n",
    " 'L',\n",
    " 'V',\n",
    " 'M',\n",
    " 'AL',\n",
    " 'AC',\n",
    " 'ES',\n",
    " 'C1',\n",
    " 'C1AC',\n",
    " 'C1AL',\n",
    " 'HS',\n",
    " 'C2',\n",
    " 'C2Al',\n",
    " 'C2AC']\n",
    "X = abraham_mordred.join(abraham.set_index('SMILES')[['Log (1/ODT)']], how='inner', rsuffix='abr_')\n",
    "y = X['Log (1/ODT)']\n",
    "X = X.astype('float').drop('Log (1/ODT)', axis=1)\n",
    "#finite_all = X.dropna(axis=1).columns.intersection(finite_mordred)\n",
    "X = X[finite_mordred].fillna(0)\n",
    "X = X.dropna(axis=1)\n",
    "Xn = X.copy()\n",
    "Xn[:] = StandardScaler().fit_transform(X)"
   ]
  },
  {
   "cell_type": "code",
   "execution_count": null,
   "metadata": {},
   "outputs": [],
   "source": [
    "Cs = np.logspace(-3, 3, 13)\n",
    "rs_in = pd.Series(index=Cs, dtype=float)\n",
    "rs_out = pd.Series(index=Cs, dtype=float)\n",
    "rhos_out = pd.Series(index=Cs, dtype=float)\n",
    "for C in tqdm(Cs):\n",
    "    svr = SVR(C=C, kernel='rbf')\n",
    "    clf = svr\n",
    "    #y_predict = cross_val_predict(rfr, Xn, y, cv=LeaveOneOut(), n_jobs=-1)\n",
    "    clf.fit(Xn, y)\n",
    "    y_predict_in = clf.predict(Xn)\n",
    "    y_predict_out = cross_val_predict(clf, Xn, y, cv=LeaveOneOut(), n_jobs=-1)\n",
    "    y_predict_in = np.clip(y_predict_in, 0, np.inf)\n",
    "    y_predict_out = np.clip(y_predict_out, 0, np.inf)\n",
    "    rs_in[C] = pearsonr(y, y_predict_in)[0]\n",
    "    rs_out[C] = pearsonr(y, y_predict_out)[0]\n",
    "    rhos_out[C] = spearmanr(y, y_predict_out)[0]"
   ]
  },
  {
   "cell_type": "code",
   "execution_count": null,
   "metadata": {},
   "outputs": [],
   "source": [
    "rs_in.plot(label='In-sample prediction R')\n",
    "rs_out.plot(label='Out-of-sample prediction R')\n",
    "rhos_out.plot(label=r'Out-of-sample prediction $\\rho$')\n",
    "plt.xscale('log')\n",
    "plt.ylabel('Correlation\\n(predicted vs observed)')\n",
    "plt.xlabel('C (SVR hyperparameter)')\n",
    "plt.legend(fontsize=10)"
   ]
  },
  {
   "cell_type": "code",
   "execution_count": null,
   "metadata": {},
   "outputs": [],
   "source": [
    "svr = SVR(C=1, kernel='rbf')\n",
    "svr.fit(Xn, y)\n",
    "X_ = mordred_data[finite_mordred]; y_ = mordred_data['log_abs']\n",
    "X_ = X_.join(half_coleman_data.set_index('SMILES String')['det'])\n",
    "X_ = X_[y_ < 10]\n",
    "y_ = y_[y_ < 10]\n",
    "Xn_ = pd.DataFrame(StandardScaler().fit_transform(X_), index=X_.index, columns=X_.columns)\n",
    "X_['det'] = svr.predict(Xn_.drop('det', axis=1))\n",
    "#y_predict = cross_val_predict(svr, Xn, y, cv=LeaveOneOut(), n_jobs=-1)"
   ]
  },
  {
   "cell_type": "code",
   "execution_count": null,
   "metadata": {},
   "outputs": [],
   "source": [
    "Xn_ = pd.DataFrame(StandardScaler().fit_transform(X_), index=X_.index, columns=X_.columns)\n",
    "Cs = np.logspace(-3, 3, 13)\n",
    "rs_in = pd.Series(index=Cs, dtype=float)\n",
    "rs_out = pd.Series(index=Cs, dtype=float)\n",
    "rhos_out = pd.Series(index=Cs, dtype=float)\n",
    "for C in tqdm(Cs):\n",
    "    svr = SVR(C=C, kernel='rbf')\n",
    "    clf = svr\n",
    "    #y_predict = cross_val_predict(rfr, Xn, y, cv=LeaveOneOut(), n_jobs=-1)\n",
    "    clf.fit(Xn_, y_)\n",
    "    y_predict_in = clf.predict(Xn_)\n",
    "    y_predict_out = cross_val_predict(clf, Xn_, y_, cv=LeaveOneOut(), n_jobs=-1)\n",
    "    y_predict_in = np.clip(y_predict_in, 0, np.inf)\n",
    "    y_predict_out = np.clip(y_predict_out, 0, np.inf)\n",
    "    rs_in[C] = pearsonr(y_, y_predict_in)[0]\n",
    "    rs_out[C] = pearsonr(y_, y_predict_out)[0]\n",
    "    rhos_out[C] = spearmanr(y_, y_predict_out)[0]"
   ]
  },
  {
   "cell_type": "code",
   "execution_count": null,
   "metadata": {},
   "outputs": [],
   "source": [
    "rs_in.plot(label='In-sample prediction R')\n",
    "rs_out.plot(label='Out-of-sample prediction R')\n",
    "rhos_out.plot(label=r'Out-of-sample prediction $\\rho$')\n",
    "plt.xscale('log')\n",
    "plt.ylabel('Correlation\\n(predicted vs observed)')\n",
    "plt.xlabel('C (SVR hyperparameter)')\n",
    "plt.legend(fontsize=10)"
   ]
  }
 ],
 "metadata": {
  "kernelspec": {
   "display_name": "base",
   "language": "python",
   "name": "python3"
  },
  "language_info": {
   "name": "python",
   "version": "3.7.3 (default, Mar 27 2019, 17:13:21) [MSC v.1915 64 bit (AMD64)]"
  },
  "orig_nbformat": 4,
  "vscode": {
   "interpreter": {
    "hash": "f48e850f9ba95f784ffa8abe9e192013ea9f7c58fba7063fff0218a6f7b5b546"
   }
  }
 },
 "nbformat": 4,
 "nbformat_minor": 2
}
