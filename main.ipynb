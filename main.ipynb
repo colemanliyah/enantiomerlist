{
 "cells": [
  {
   "cell_type": "code",
   "execution_count": 1,
   "metadata": {
    "collapsed": false,
    "scrolled": true
   },
   "outputs": [
    {
     "data": {
      "text/html": [
       "<div>\n",
       "<table border=\"1\" class=\"dataframe\">\n",
       "  <thead>\n",
       "    <tr style=\"text-align: right;\">\n",
       "      <th></th>\n",
       "      <th>Molecule Name</th>\n",
       "      <th>SMILES String</th>\n",
       "      <th>Detection Threshold</th>\n",
       "      <th>Detection Units</th>\n",
       "      <th>Extra Info</th>\n",
       "      <th>Molecule Odour</th>\n",
       "    </tr>\n",
       "    <tr>\n",
       "      <th>Pubchem ID #</th>\n",
       "      <th></th>\n",
       "      <th></th>\n",
       "      <th></th>\n",
       "      <th></th>\n",
       "      <th></th>\n",
       "      <th></th>\n",
       "    </tr>\n",
       "  </thead>\n",
       "  <tbody>\n",
       "    <tr>\n",
       "      <th>11389922</th>\n",
       "      <td>(R)-(-)-gamme-lonone</td>\n",
       "      <td>CC(=O)/C=C/[C@H]1C(=C)CCCC1(C)C</td>\n",
       "      <td>11</td>\n",
       "      <td>ppb water</td>\n",
       "      <td>0</td>\n",
       "      <td>Weak green, fruity, pineapple-like odor with m...</td>\n",
       "    </tr>\n",
       "    <tr>\n",
       "      <th>5363741</th>\n",
       "      <td>(S)-(+)-gamme-lonone</td>\n",
       "      <td>CC(=O)/C=C/C1C(=C)CCCC1(C)C</td>\n",
       "      <td>0.07</td>\n",
       "      <td>ppb water</td>\n",
       "      <td>0</td>\n",
       "      <td>Linear, very pleasant, floral, green, woody od...</td>\n",
       "    </tr>\n",
       "    <tr>\n",
       "      <th>6437266</th>\n",
       "      <td>(1S, 2'R,3'R) - Ebanol</td>\n",
       "      <td>CC1=CCC(C1(C)C)/C=C\\C(C)C(C)O</td>\n",
       "      <td>&gt;100</td>\n",
       "      <td>(relative in series)</td>\n",
       "      <td>GC Sniff</td>\n",
       "      <td>weak, no sandalwood odor relevance</td>\n",
       "    </tr>\n",
       "    <tr>\n",
       "      <th>6504499</th>\n",
       "      <td>(1S, 2'S,3'R) - Ebanol</td>\n",
       "      <td>CC1=CCC(C1(C)C)/C=C/C(C)C(C)O</td>\n",
       "      <td>1</td>\n",
       "      <td>(relative in series)</td>\n",
       "      <td>GC Sniff</td>\n",
       "      <td>Powerful sandalwood, more than 100X more power...</td>\n",
       "    </tr>\n",
       "    <tr>\n",
       "      <th>57149131</th>\n",
       "      <td>(4R)-4-mercapto-2-hexanone</td>\n",
       "      <td>CCC(CC(=O)C)S</td>\n",
       "      <td>69</td>\n",
       "      <td>ng/L air</td>\n",
       "      <td>0</td>\n",
       "      <td>more unpleasant (catty, sulfury) descriptions ...</td>\n",
       "    </tr>\n",
       "  </tbody>\n",
       "</table>\n",
       "</div>"
      ],
      "text/plain": [
       "                           Molecule Name                    SMILES String  \\\n",
       "Pubchem ID #                                                                \n",
       "11389922            (R)-(-)-gamme-lonone  CC(=O)/C=C/[C@H]1C(=C)CCCC1(C)C   \n",
       "5363741             (S)-(+)-gamme-lonone      CC(=O)/C=C/C1C(=C)CCCC1(C)C   \n",
       "6437266           (1S, 2'R,3'R) - Ebanol    CC1=CCC(C1(C)C)/C=C\\C(C)C(C)O   \n",
       "6504499           (1S, 2'S,3'R) - Ebanol    CC1=CCC(C1(C)C)/C=C/C(C)C(C)O   \n",
       "57149131      (4R)-4-mercapto-2-hexanone                    CCC(CC(=O)C)S   \n",
       "\n",
       "             Detection Threshold       Detection Units Extra Info  \\\n",
       "Pubchem ID #                                                        \n",
       "11389922                      11             ppb water          0   \n",
       "5363741                     0.07             ppb water          0   \n",
       "6437266                     >100  (relative in series)  GC Sniff    \n",
       "6504499                        1  (relative in series)  GC Sniff    \n",
       "57149131                      69              ng/L air          0   \n",
       "\n",
       "                                                 Molecule Odour  \n",
       "Pubchem ID #                                                     \n",
       "11389922      Weak green, fruity, pineapple-like odor with m...  \n",
       "5363741       Linear, very pleasant, floral, green, woody od...  \n",
       "6437266                      weak, no sandalwood odor relevance  \n",
       "6504499       Powerful sandalwood, more than 100X more power...  \n",
       "57149131      more unpleasant (catty, sulfury) descriptions ...  "
      ]
     },
     "execution_count": 1,
     "metadata": {},
     "output_type": "execute_result"
    }
   ],
   "source": [
    "import pandas as pd\n",
    "import os\n",
    "HOME = os.environ['HOME']\n",
    "path = os.path.join(HOME,\"Desktop\",\"EnantiomerList - Sheet1.csv\")\n",
    "df = pd.read_csv(path)\n",
    "df = df.fillna(0)\n",
    "df['Pubchem ID #'] = df['Pubchem ID #'].astype('int')\n",
    "df = df.set_index(['Pubchem ID #'])\n",
    "df.head()"
   ]
  },
  {
   "cell_type": "code",
   "execution_count": 2,
   "metadata": {
    "collapsed": false
   },
   "outputs": [
    {
     "data": {
      "text/plain": [
       "Pubchem ID #\n",
       "11389922                       CC(=O)/C=C/[C@H]1C(=C)CCCC1(C)C\n",
       "5363741                            CC(=O)/C=C/C1C(=C)CCCC1(C)C\n",
       "6437266                          CC1=CCC(C1(C)C)/C=C\\C(C)C(C)O\n",
       "6504499                          CC1=CCC(C1(C)C)/C=C/C(C)C(C)O\n",
       "57149131                                         CCC(CC(=O)C)S\n",
       "274731716    said there was an error when inputted into pub...\n",
       "1268142           C[C@@H]1CC(=O)C=C2[C@]1(C[C@@H](CC2)C(=C)C)C\n",
       "20797                          CC1CC(=O)C=C2C1(CC(CC2)C(=C)C)C\n",
       "106673                           CC1C2CC(C1(C)C)CC2C3CCC(CC3)O\n",
       "106673                           CC1C2CC(C1(C)C)CC2C3CCC(CC3)O\n",
       "91497                   CC1COCC2=CC3=C(C=C12)C(C(C3(C)C)C)(C)C\n",
       "11322880           C[C@@H]1COCC2=CC3=C(C=C12)C(C(C3(C)C)C)(C)C\n",
       "7222                                       C1=CC=C2C(=C1)N=CS2\n",
       "7222                                       C1=CC=C2C(=C1)N=CS2\n",
       "439570                                CC1=CC[C@H](CC1=O)C(=C)C\n",
       "16724                                CC1=CC[C@@H](CC1=O)C(=C)C\n",
       "11095260                               CC1(CCCC(=C)C1C(=O)OC)C\n",
       "11095260                               CC1(CCCC(=C)C1C(=O)OC)C\n",
       "439600                                 C([C@H](C(=O)O)N)C(=O)N\n",
       "6267                                  C([C@@H](C(=O)O)N)C(=O)N\n",
       "6140                             C1=CC=C(C=C1)C[C@@H](C(=O)O)N\n",
       "71567                             C1=CC=C(C=C1)C[C@H](C(=O)O)N\n",
       "23672308                    C(CC(=O)O)[C@@H](C(=O)[O-])N.[Na+]\n",
       "23327                                 C(CC(=O)O)[C@H](C(=O)O)N\n",
       "6552009                      C[C@@]12CC[C@@H](C1(C)C)C[C@@H]2O\n",
       "6850744                             C[C@]12CC[C@H](C1(C)C)CC2O\n",
       "6931728                               CCC[C@@H]1CCO[C@@H](S1)C\n",
       "6931725                                 CCC[C@H]1CCO[C@H](S1)C\n",
       "7160826                            C[C@@H]1CCCCCCCCCCCCC(=O)C1\n",
       "7160827                             C[C@H]1CCCCCCCCCCCCC(=O)C1\n",
       "44152305                             CC1=CC[C@@H](CC1)C(C)(C)S\n",
       "10877566                              CC1=CC[C@H](CC1)C(C)(C)S\n",
       "6427970                    CC/C=C\\C[C@H]1[C@H](CCC1=O)CC(=O)OC\n",
       "12566815                 CC/C=C/C[C@@H]1[C@@H](CCC1=O)CC(=O)OC\n",
       "57823844                           C[C@H](CC1=CC=CC=C1)[15NH2]\n",
       "57823843                          C[C@@H](CC1=CC=CC=C1)[15NH2]\n",
       "40428776                              CCCCC[C@H](/C(=C/CC)/C)O\n",
       "6441135                                   CCCCCC(/C(=C/CC)/C)O\n",
       "1738122                       CCCCC[C@H]1[C@H](CCC1=O)CC(=O)OC\n",
       "1738127                     CCCCC[C@@H]1[C@@H](CCC1=O)CC(=O)OC\n",
       "0                                                            0\n",
       "0                                                            0\n",
       "Name: SMILES String, dtype: object"
      ]
     },
     "execution_count": 2,
     "metadata": {},
     "output_type": "execute_result"
    }
   ],
   "source": [
    "df['SMILES String']"
   ]
  },
  {
   "cell_type": "code",
   "execution_count": 3,
   "metadata": {
    "collapsed": false
   },
   "outputs": [
    {
     "data": {
      "text/plain": [
       "['CC(=O)/C=C/[C@H]1C(=C)CCCC1(C)C',\n",
       " 'CC(=O)/C=C/C1C(=C)CCCC1(C)C',\n",
       " 'CC1=CCC(C1(C)C)/C=C\\\\C(C)C(C)O',\n",
       " 'CC1=CCC(C1(C)C)/C=C/C(C)C(C)O',\n",
       " 'CCC(CC(=O)C)S',\n",
       " 'said there was an error when inputted into pubchem exchange service',\n",
       " 'C[C@@H]1CC(=O)C=C2[C@]1(C[C@@H](CC2)C(=C)C)C',\n",
       " 'CC1CC(=O)C=C2C1(CC(CC2)C(=C)C)C',\n",
       " 'CC1C2CC(C1(C)C)CC2C3CCC(CC3)O',\n",
       " 'CC1C2CC(C1(C)C)CC2C3CCC(CC3)O',\n",
       " 'CC1COCC2=CC3=C(C=C12)C(C(C3(C)C)C)(C)C',\n",
       " 'C[C@@H]1COCC2=CC3=C(C=C12)C(C(C3(C)C)C)(C)C',\n",
       " 'C1=CC=C2C(=C1)N=CS2',\n",
       " 'C1=CC=C2C(=C1)N=CS2',\n",
       " 'CC1=CC[C@H](CC1=O)C(=C)C',\n",
       " 'CC1=CC[C@@H](CC1=O)C(=C)C',\n",
       " 'CC1(CCCC(=C)C1C(=O)OC)C',\n",
       " 'CC1(CCCC(=C)C1C(=O)OC)C',\n",
       " 'C([C@H](C(=O)O)N)C(=O)N',\n",
       " 'C([C@@H](C(=O)O)N)C(=O)N',\n",
       " 'C1=CC=C(C=C1)C[C@@H](C(=O)O)N',\n",
       " 'C1=CC=C(C=C1)C[C@H](C(=O)O)N',\n",
       " 'C(CC(=O)O)[C@@H](C(=O)[O-])N.[Na+]',\n",
       " 'C(CC(=O)O)[C@H](C(=O)O)N',\n",
       " 'C[C@@]12CC[C@@H](C1(C)C)C[C@@H]2O',\n",
       " 'C[C@]12CC[C@H](C1(C)C)CC2O',\n",
       " 'CCC[C@@H]1CCO[C@@H](S1)C',\n",
       " 'CCC[C@H]1CCO[C@H](S1)C',\n",
       " 'C[C@@H]1CCCCCCCCCCCCC(=O)C1',\n",
       " 'C[C@H]1CCCCCCCCCCCCC(=O)C1',\n",
       " 'CC1=CC[C@@H](CC1)C(C)(C)S',\n",
       " 'CC1=CC[C@H](CC1)C(C)(C)S',\n",
       " 'CC/C=C\\\\C[C@H]1[C@H](CCC1=O)CC(=O)OC',\n",
       " 'CC/C=C/C[C@@H]1[C@@H](CCC1=O)CC(=O)OC',\n",
       " 'C[C@H](CC1=CC=CC=C1)[15NH2]',\n",
       " 'C[C@@H](CC1=CC=CC=C1)[15NH2]',\n",
       " 'CCCCC[C@H](/C(=C/CC)/C)O',\n",
       " 'CCCCCC(/C(=C/CC)/C)O',\n",
       " 'CCCCC[C@H]1[C@H](CCC1=O)CC(=O)OC',\n",
       " 'CCCCC[C@@H]1[C@@H](CCC1=O)CC(=O)OC',\n",
       " 0,\n",
       " 0]"
      ]
     },
     "execution_count": 3,
     "metadata": {},
     "output_type": "execute_result"
    }
   ],
   "source": [
    "list(df['SMILES String'])"
   ]
  }
 ],
 "metadata": {
  "kernelspec": {
   "display_name": "Python 3",
   "language": "python",
   "name": "python3"
  },
  "language_info": {
   "codemirror_mode": {
    "name": "ipython",
    "version": 3
   },
   "file_extension": ".py",
   "mimetype": "text/x-python",
   "name": "python",
   "nbconvert_exporter": "python",
   "pygments_lexer": "ipython3",
   "version": "3.5.2"
  }
 },
 "nbformat": 4,
 "nbformat_minor": 2
}
