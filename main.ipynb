{
 "cells": [
  {
   "cell_type": "markdown",
   "metadata": {
    "deletable": true,
    "editable": true
   },
   "source": [
    "## Preliminaries"
   ]
  },
  {
   "cell_type": "code",
   "execution_count": 1,
   "metadata": {
    "collapsed": false,
    "deletable": true,
    "editable": true
   },
   "outputs": [],
   "source": [
    "import __init__ as a"
   ]
  },
  {
   "cell_type": "code",
   "execution_count": 2,
   "metadata": {
    "collapsed": false,
    "deletable": true,
    "editable": true
   },
   "outputs": [],
   "source": [
    "if a.HAS_OBABEL:\n",
    "    a.test_eden_pybel() # Should show two molecules below.  "
   ]
  },
  {
   "cell_type": "code",
   "execution_count": 3,
   "metadata": {
    "collapsed": false,
    "deletable": true,
    "editable": true
   },
   "outputs": [
    {
     "name": "stdout",
     "output_type": "stream",
     "text": [
      "Convering SMILES string to Mol format...\n",
      "Computing 3D coordinates...\n",
      "Computing Mordred features...\n"
     ]
    },
    {
     "name": "stderr",
     "output_type": "stream",
     "text": [
      "100%|██████████| 2/2 [00:00<00:00,  6.95it/s]"
     ]
    },
    {
     "name": "stdout",
     "output_type": "stream",
     "text": [
      "There are 2 molecules and 1824 features\n"
     ]
    },
    {
     "name": "stderr",
     "output_type": "stream",
     "text": [
      "\n"
     ]
    },
    {
     "data": {
      "text/html": [
       "<div>\n",
       "<table border=\"1\" class=\"dataframe\">\n",
       "  <thead>\n",
       "    <tr style=\"text-align: right;\">\n",
       "      <th></th>\n",
       "      <th>ABC</th>\n",
       "      <th>ABCGG</th>\n",
       "      <th>nAcid</th>\n",
       "      <th>nBase</th>\n",
       "      <th>SpAbs_A</th>\n",
       "      <th>SpMax_A</th>\n",
       "      <th>SpDiam_A</th>\n",
       "      <th>SpAD_A</th>\n",
       "      <th>SpMAD_A</th>\n",
       "      <th>LogEE_A</th>\n",
       "      <th>...</th>\n",
       "      <th>SRW10</th>\n",
       "      <th>TSRW10</th>\n",
       "      <th>MW</th>\n",
       "      <th>AMW</th>\n",
       "      <th>WPath</th>\n",
       "      <th>WPol</th>\n",
       "      <th>Zagreb1</th>\n",
       "      <th>Zagreb2</th>\n",
       "      <th>mZagreb1</th>\n",
       "      <th>mZagreb2</th>\n",
       "    </tr>\n",
       "  </thead>\n",
       "  <tbody>\n",
       "    <tr>\n",
       "      <th>OC[C@@H](O1)[C@@H](O)[C@H](O)[C@@H]2[C@@H]1c3c(O)c(OC)c(O)cc3C(=O)O2</th>\n",
       "      <td>17.8202</td>\n",
       "      <td>15.152</td>\n",
       "      <td>0</td>\n",
       "      <td>0</td>\n",
       "      <td>29.22</td>\n",
       "      <td>2.56069</td>\n",
       "      <td>5.12137</td>\n",
       "      <td>29.22</td>\n",
       "      <td>1.27043</td>\n",
       "      <td>4.077</td>\n",
       "      <td>...</td>\n",
       "      <td>10.4037</td>\n",
       "      <td>58.1999</td>\n",
       "      <td>328.079</td>\n",
       "      <td>8.41229</td>\n",
       "      <td>1030</td>\n",
       "      <td>47</td>\n",
       "      <td>126</td>\n",
       "      <td>157</td>\n",
       "      <td>9.47222</td>\n",
       "      <td>5.11111</td>\n",
       "    </tr>\n",
       "    <tr>\n",
       "      <th>CC(=O)NCCC1=CNc2c1cc(OC)cc2</th>\n",
       "      <td>12.8658</td>\n",
       "      <td>11.2443</td>\n",
       "      <td>0</td>\n",
       "      <td>0</td>\n",
       "      <td>21.6032</td>\n",
       "      <td>2.42108</td>\n",
       "      <td>4.72099</td>\n",
       "      <td>21.6032</td>\n",
       "      <td>1.27077</td>\n",
       "      <td>3.74904</td>\n",
       "      <td>...</td>\n",
       "      <td>9.53727</td>\n",
       "      <td>63.2639</td>\n",
       "      <td>232.121</td>\n",
       "      <td>7.03398</td>\n",
       "      <td>561</td>\n",
       "      <td>22</td>\n",
       "      <td>84</td>\n",
       "      <td>96</td>\n",
       "      <td>5.80556</td>\n",
       "      <td>3.88889</td>\n",
       "    </tr>\n",
       "  </tbody>\n",
       "</table>\n",
       "<p>2 rows × 1824 columns</p>\n",
       "</div>"
      ],
      "text/plain": [
       "                                                        ABC    ABCGG nAcid  \\\n",
       "OC[C@@H](O1)[C@@H](O)[C@H](O)[C@@H]2[C@@H]1c3c(...  17.8202   15.152     0   \n",
       "CC(=O)NCCC1=CNc2c1cc(OC)cc2                         12.8658  11.2443     0   \n",
       "\n",
       "                                                   nBase  SpAbs_A  SpMax_A  \\\n",
       "OC[C@@H](O1)[C@@H](O)[C@H](O)[C@@H]2[C@@H]1c3c(...     0    29.22  2.56069   \n",
       "CC(=O)NCCC1=CNc2c1cc(OC)cc2                            0  21.6032  2.42108   \n",
       "\n",
       "                                                   SpDiam_A   SpAD_A  SpMAD_A  \\\n",
       "OC[C@@H](O1)[C@@H](O)[C@H](O)[C@@H]2[C@@H]1c3c(...  5.12137    29.22  1.27043   \n",
       "CC(=O)NCCC1=CNc2c1cc(OC)cc2                         4.72099  21.6032  1.27077   \n",
       "\n",
       "                                                    LogEE_A   ...       SRW10  \\\n",
       "OC[C@@H](O1)[C@@H](O)[C@H](O)[C@@H]2[C@@H]1c3c(...    4.077   ...     10.4037   \n",
       "CC(=O)NCCC1=CNc2c1cc(OC)cc2                         3.74904   ...     9.53727   \n",
       "\n",
       "                                                     TSRW10       MW      AMW  \\\n",
       "OC[C@@H](O1)[C@@H](O)[C@H](O)[C@@H]2[C@@H]1c3c(...  58.1999  328.079  8.41229   \n",
       "CC(=O)NCCC1=CNc2c1cc(OC)cc2                         63.2639  232.121  7.03398   \n",
       "\n",
       "                                                   WPath WPol Zagreb1 Zagreb2  \\\n",
       "OC[C@@H](O1)[C@@H](O)[C@H](O)[C@@H]2[C@@H]1c3c(...  1030   47     126     157   \n",
       "CC(=O)NCCC1=CNc2c1cc(OC)cc2                          561   22      84      96   \n",
       "\n",
       "                                                   mZagreb1 mZagreb2  \n",
       "OC[C@@H](O1)[C@@H](O)[C@H](O)[C@@H]2[C@@H]1c3c(...  9.47222  5.11111  \n",
       "CC(=O)NCCC1=CNc2c1cc(OC)cc2                         5.80556  3.88889  \n",
       "\n",
       "[2 rows x 1824 columns]"
      ]
     },
     "metadata": {},
     "output_type": "display_data"
    }
   ],
   "source": [
    "a.test_rdkit_mordred() # Should show features for two molecules below.  "
   ]
  },
  {
   "cell_type": "code",
   "execution_count": 4,
   "metadata": {
    "collapsed": false,
    "deletable": true,
    "editable": true
   },
   "outputs": [
    {
     "name": "stdout",
     "output_type": "stream",
     "text": [
      "Convering SMILES string to Mol format...\n",
      "Computing 3D coordinates...\n",
      "Computing Mordred features...\n"
     ]
    },
    {
     "name": "stderr",
     "output_type": "stream",
     "text": [
      "100%|██████████| 2/2 [00:00<00:00, 14.34it/s]\n"
     ]
    },
    {
     "name": "stdout",
     "output_type": "stream",
     "text": [
      "There are 2 molecules and 1824 features\n",
      "77.1 percent of Mordred features are identical between (+)-carvone and (-)-carvone.\n"
     ]
    }
   ],
   "source": [
    "plus_carvone = 'CC1=CC[C@@H](CC1=O)C(=C)C'\n",
    "minus_carvone = 'CC1=CC[C@H](CC1=O)C(=C)C'\n",
    "features = a.smiles_to_mordred([plus_carvone,minus_carvone])\n",
    "plus_features = features.values[0,:]\n",
    "minus_features = features.values[1,:]\n",
    "print(\"%.1f percent of Mordred features are identical between (+)-carvone and (-)-carvone.\" % \\\n",
    "      (100.0*(plus_features==minus_features).mean()))"
   ]
  },
  {
   "cell_type": "markdown",
   "metadata": {
    "deletable": true,
    "editable": true
   },
   "source": [
    "## Load data from the DREAM challenge"
   ]
  },
  {
   "cell_type": "code",
   "execution_count": 5,
   "metadata": {
    "collapsed": false,
    "deletable": true,
    "editable": true
   },
   "outputs": [],
   "source": [
    "dream_CIDs = a.loading.get_CIDs(['training','leaderboard','testset']) # Load the DREAM CIDs\n",
    "dream_CID_dilutions = a.loading.get_CID_dilutions(['training','leaderboard','testset'])"
   ]
  },
  {
   "cell_type": "code",
   "execution_count": 6,
   "metadata": {
    "collapsed": false,
    "deletable": true,
    "editable": true
   },
   "outputs": [],
   "source": [
    "dream_smiles = a.get_dream_smiles(dream_CIDs) # Load the DREAM SMILES strings"
   ]
  },
  {
   "cell_type": "code",
   "execution_count": 7,
   "metadata": {
    "collapsed": false,
    "deletable": true,
    "editable": true
   },
   "outputs": [],
   "source": [
    "isomeric_CIDs = a.find_isomers(dream_CIDs,dream_smiles)"
   ]
  },
  {
   "cell_type": "code",
   "execution_count": 8,
   "metadata": {
    "collapsed": false,
    "deletable": true,
    "editable": true
   },
   "outputs": [],
   "source": [
    "if a.HAS_OBABEL:\n",
    "    a.show_isomers(isomeric_CIDs,dream_CIDs,dream_smiles) # Show the isomeric pairs from the DREAM challenge"
   ]
  },
  {
   "cell_type": "code",
   "execution_count": 9,
   "metadata": {
    "collapsed": false,
    "deletable": true,
    "editable": true
   },
   "outputs": [],
   "source": [
    "# Load DREAM perceptual data\n",
    "dream_perceptual_data = a.loading.load_perceptual_data(['training','leaderboard','testset'])\n",
    "Y_dream = a.dream.make_Y(dream_perceptual_data)\n",
    "# We must also have an imputed version that we can use as input to the algorithm since it will not work with NaNs.  \n",
    "Y_dream_imputed = a.dream.make_Y(dream_perceptual_data, imputer='median')"
   ]
  },
  {
   "cell_type": "code",
   "execution_count": 10,
   "metadata": {
    "collapsed": false,
    "deletable": true,
    "editable": true
   },
   "outputs": [
    {
     "data": {
      "image/png": "[encoded data removed]",
      "text/plain": [
       "<matplotlib.figure.Figure at 0x1113286a0>"
      ]
     },
     "metadata": {},
     "output_type": "display_data"
    }
   ],
   "source": [
    "isomeric_index = 0 # The first isomeric pair, which should be racemic vs L-something\n",
    "a.plot_isomer_ratings(dream_perceptual_data,isomeric_CIDs[isomeric_index],('racemic','L'))"
   ]
  },
  {
   "cell_type": "code",
   "execution_count": 11,
   "metadata": {
    "collapsed": false,
    "deletable": true,
    "editable": true
   },
   "outputs": [
    {
     "name": "stdout",
     "output_type": "stream",
     "text": [
      "Loading molecules from the Shadmany enantiomer collection...\n",
      "Loaded 32 molecules\n"
     ]
    }
   ],
   "source": [
    "shadmany_smiles = a.load_other_smiles(shadmany=True)\n",
    "shadmany_data = a.load_data('shadmany')"
   ]
  },
  {
   "cell_type": "code",
   "execution_count": 12,
   "metadata": {
    "collapsed": false,
    "deletable": true,
    "editable": true,
    "scrolled": false
   },
   "outputs": [
    {
     "data": {
      "text/html": [
       "<div>\n",
       "<table border=\"1\" class=\"dataframe\">\n",
       "  <thead>\n",
       "    <tr style=\"text-align: right;\">\n",
       "      <th></th>\n",
       "      <th>Molecule Name</th>\n",
       "      <th>Pubchem ID #</th>\n",
       "      <th>Detection Threshold</th>\n",
       "      <th>Detection Units</th>\n",
       "      <th>Molecule Odour</th>\n",
       "    </tr>\n",
       "  </thead>\n",
       "  <tbody>\n",
       "    <tr>\n",
       "      <th>C=C(C)[C@@H]1CC=C(C)C(=O)C1</th>\n",
       "      <td>(4S)-(+)-carvone</td>\n",
       "      <td>16724</td>\n",
       "      <td>1.300000e+02</td>\n",
       "      <td>ppb</td>\n",
       "      <td>caraway, fresh herbal</td>\n",
       "    </tr>\n",
       "    <tr>\n",
       "      <th>C=C(C)[C@H]1CC=C(C)C(=O)C1</th>\n",
       "      <td>(4R)-(-)-carvone</td>\n",
       "      <td>439570</td>\n",
       "      <td>2.000000e+00</td>\n",
       "      <td>ppb</td>\n",
       "      <td>sweet spearmint, fresh herbal</td>\n",
       "    </tr>\n",
       "    <tr>\n",
       "      <th>C=C(C)[C@@H]1CCC2=CC(=O)C[C@@H](C)[C@]2(C)C1</th>\n",
       "      <td>(4R,4aS,6R)-(+) nootkatone</td>\n",
       "      <td>1268142</td>\n",
       "      <td>1.500000e+01</td>\n",
       "      <td>ppm</td>\n",
       "      <td>grapefruit odor</td>\n",
       "    </tr>\n",
       "    <tr>\n",
       "      <th>C=C(C)[C@H]1CCC2=CC(=O)C[C@H](C)[C@@]2(C)C1</th>\n",
       "      <td>(4S,4aR,6S)-(-) nootkatone</td>\n",
       "      <td>7567181</td>\n",
       "      <td>6.600000e+04</td>\n",
       "      <td>ppm</td>\n",
       "      <td>woody and spicy</td>\n",
       "    </tr>\n",
       "    <tr>\n",
       "      <th>C=C1CCCC(C)(C)[C@@H]1/C=C/C(C)=O</th>\n",
       "      <td>(S)-(+)-gamma-ionone</td>\n",
       "      <td>11194862</td>\n",
       "      <td>7.000000e-02</td>\n",
       "      <td>ppb water</td>\n",
       "      <td>Linear, very pleasant, floral, green, woody od...</td>\n",
       "    </tr>\n",
       "    <tr>\n",
       "      <th>C=C1CCCC(C)(C)[C@H]1/C=C/C(C)=O</th>\n",
       "      <td>(R)-(-)-gamma-ionone</td>\n",
       "      <td>11389922</td>\n",
       "      <td>1.100000e+01</td>\n",
       "      <td>ppb water</td>\n",
       "      <td>Weak green, fruity, pineapple-like odor with m...</td>\n",
       "    </tr>\n",
       "    <tr>\n",
       "      <th>C=C[C@@H](O)CCCCC</th>\n",
       "      <td>(S)-(+)-1-octen-3-ol</td>\n",
       "      <td>2724898</td>\n",
       "      <td>1.000000e+02</td>\n",
       "      <td>ppb in aqueous ethanol</td>\n",
       "      <td>moldy, grassy, artificial; also desribed as he...</td>\n",
       "    </tr>\n",
       "    <tr>\n",
       "      <th>C=C[C@H](O)CCCCC</th>\n",
       "      <td>(R)-(-)-1-octen-3-ol</td>\n",
       "      <td>6992244</td>\n",
       "      <td>1.000000e+01</td>\n",
       "      <td>ppb in aqueous ethanol</td>\n",
       "      <td>fruity, genuine mushroom-like; also desribed a...</td>\n",
       "    </tr>\n",
       "    <tr>\n",
       "      <th>C=C[C@@]1(C)CC[C@H]([C@@H](C)C=O)O1</th>\n",
       "      <td>(2R,2\\'R,5\\'R)-Lilac aldehyde</td>\n",
       "      <td>71587756</td>\n",
       "      <td>2.200000e+01</td>\n",
       "      <td>ng</td>\n",
       "      <td>flowery</td>\n",
       "    </tr>\n",
       "    <tr>\n",
       "      <th>C=C[C@]1(C)CC[C@@H]([C@H](C)C=O)O1</th>\n",
       "      <td>(2S,2\\'S,5\\'S)-Lilac aldehyde</td>\n",
       "      <td>441572</td>\n",
       "      <td>2.000000e-01</td>\n",
       "      <td>ng</td>\n",
       "      <td>fresh, flowery</td>\n",
       "    </tr>\n",
       "    <tr>\n",
       "      <th>CC(=O)/C=C/[C@H]1C(C)=CC[C@@H](C)C1(C)C</th>\n",
       "      <td>(1S,5R)-(+)-cis-alpha-irone</td>\n",
       "      <td>5281521</td>\n",
       "      <td>1.000000e+05</td>\n",
       "      <td>ppb</td>\n",
       "      <td>iris, sweet irone odour, woody ionone, floral,...</td>\n",
       "    </tr>\n",
       "    <tr>\n",
       "      <th>CC(=O)/C=C/[C@@H]1C(C)=CC[C@H](C)C1(C)C</th>\n",
       "      <td>(1R,5S)-(-)-cis-alpha-irone</td>\n",
       "      <td>11009095</td>\n",
       "      <td>1.000000e+04</td>\n",
       "      <td>ppb</td>\n",
       "      <td>odourless (Galfry, et.al, by GC sniffing); In ...</td>\n",
       "    </tr>\n",
       "    <tr>\n",
       "      <th>CC(C)=C[C@@H]1C[C@H](C)CCO1</th>\n",
       "      <td>(4S,2R)-(+)-cis-rose oxide</td>\n",
       "      <td>6432154</td>\n",
       "      <td>5.000000e+01</td>\n",
       "      <td>ppb</td>\n",
       "      <td>herbal, green floral, hay green, earthy, heavy...</td>\n",
       "    </tr>\n",
       "    <tr>\n",
       "      <th>CC(C)=C[C@H]1C[C@@H](C)CCO1</th>\n",
       "      <td>(4R,2S)-(-)-cis-rose oxide</td>\n",
       "      <td>1712087</td>\n",
       "      <td>5.000000e-01</td>\n",
       "      <td>ppb</td>\n",
       "      <td>floral green with clean sharp, light, rose gre...</td>\n",
       "    </tr>\n",
       "    <tr>\n",
       "      <th>CC1=CC[C@H](C(C)(C)S)CC1</th>\n",
       "      <td>(R)-(+)-1-p-menthen- 8-thiol</td>\n",
       "      <td>44152305</td>\n",
       "      <td>2.000000e-05</td>\n",
       "      <td>ppb</td>\n",
       "      <td>pleasant odor of fresh grapefruit juice</td>\n",
       "    </tr>\n",
       "    <tr>\n",
       "      <th>CC1=CC[C@@H](C(C)(C)S)CC1</th>\n",
       "      <td>(S)-(-)-1-p-menthen-8-thiol</td>\n",
       "      <td>10877566</td>\n",
       "      <td>8.000000e-04</td>\n",
       "      <td>ppb</td>\n",
       "      <td>weak, nonspecific odor.</td>\n",
       "    </tr>\n",
       "    <tr>\n",
       "      <th>C[C@H]1CCCCCCCCCCCCC(=O)C1</th>\n",
       "      <td>(S)-(+)- muscone/(S)-(+)-3-methyl cyclopentade...</td>\n",
       "      <td>7160827</td>\n",
       "      <td>2.330000e+02</td>\n",
       "      <td>ppb</td>\n",
       "      <td>poor, weakly musky</td>\n",
       "    </tr>\n",
       "    <tr>\n",
       "      <th>C[C@@H]1CCCCCCCCCCCCC(=O)C1</th>\n",
       "      <td>(R)-(-)- muscone/(R)--3-methyl cyclopentadecanone</td>\n",
       "      <td>7160826</td>\n",
       "      <td>6.100000e+01</td>\n",
       "      <td>ppb</td>\n",
       "      <td>rich, powerful, musky</td>\n",
       "    </tr>\n",
       "    <tr>\n",
       "      <th>C[C@@H]1COCc2cc3c(cc21)C(C)(C)[C@H](C)C3(C)C</th>\n",
       "      <td>(4R,7R)-(+)-galaxolide</td>\n",
       "      <td>14177988</td>\n",
       "      <td>4.400000e-01</td>\n",
       "      <td>ppb in air</td>\n",
       "      <td>weak to almost odorless</td>\n",
       "    </tr>\n",
       "    <tr>\n",
       "      <th>C[C@H]1COCc2cc3c(cc21)C(C)(C)[C@@H](C)C3(C)C</th>\n",
       "      <td>(4S,7S)-(-)-galaxolide</td>\n",
       "      <td>14177991</td>\n",
       "      <td>1.000000e-03</td>\n",
       "      <td>ppb in air</td>\n",
       "      <td>powerful musk odor</td>\n",
       "    </tr>\n",
       "    <tr>\n",
       "      <th>C/C=C/C(=O)[C@H]1C(C)=CCCC1(C)C</th>\n",
       "      <td>(R)-(+)-(E)-alpha-damascone</td>\n",
       "      <td>1268130</td>\n",
       "      <td>1.000000e+02</td>\n",
       "      <td>ppb</td>\n",
       "      <td>odor character was reminiscent of rose petals,...</td>\n",
       "    </tr>\n",
       "    <tr>\n",
       "      <th>C/C=C/C(=O)[C@@H]1C(C)=CCCC1(C)C</th>\n",
       "      <td>(S)-(-)-(E)-alpha-damascone</td>\n",
       "      <td>1268132</td>\n",
       "      <td>1.500000e+00</td>\n",
       "      <td>ppb</td>\n",
       "      <td>floral, reminiscent of rose petals and charact...</td>\n",
       "    </tr>\n",
       "    <tr>\n",
       "      <th>CC[C@@H](C)C=O</th>\n",
       "      <td>(S)-(+)-2-methylbutanal</td>\n",
       "      <td>6971249</td>\n",
       "      <td>1.000000e+01</td>\n",
       "      <td>in air</td>\n",
       "      <td>pungent, fresh, fruity (Boelens, et. al.); Pec...</td>\n",
       "    </tr>\n",
       "    <tr>\n",
       "      <th>CC[C@H](C)C=O</th>\n",
       "      <td>(R)-(-)-2-methylbutanal</td>\n",
       "      <td>6971248</td>\n",
       "      <td>1.000000e+02</td>\n",
       "      <td>in air</td>\n",
       "      <td>pungent, caprylic (Boelens, et. al.); Peculiar...</td>\n",
       "    </tr>\n",
       "    <tr>\n",
       "      <th>CC/C=C(\\C)[C@H](O)CCCCC</th>\n",
       "      <td>(R)-(+)-undecavertol</td>\n",
       "      <td>40428776</td>\n",
       "      <td>3.100000e-01</td>\n",
       "      <td>ng/L air</td>\n",
       "      <td>similar to the racemate smell floral, green, f...</td>\n",
       "    </tr>\n",
       "    <tr>\n",
       "      <th>CC/C=C(\\C)C(O)CCCCC</th>\n",
       "      <td>(S)-(-)-undecavertol</td>\n",
       "      <td>40565487</td>\n",
       "      <td>4.700000e+00</td>\n",
       "      <td>ng/L air</td>\n",
       "      <td>green fruit with a hint of balsam pinefiru and...</td>\n",
       "    </tr>\n",
       "    <tr>\n",
       "      <th>CC/C=C/C[C@H]1C(=O)CC[C@H]1CC(=O)OC</th>\n",
       "      <td>(1R,2S)-(+)-(Z) Methyl epijasmonate</td>\n",
       "      <td>6427970</td>\n",
       "      <td>3.000000e+00</td>\n",
       "      <td>ppb</td>\n",
       "      <td>strong, jasmine- like odor</td>\n",
       "    </tr>\n",
       "    <tr>\n",
       "      <th>CC/C=C\\C[C@@H]1C(=O)CC[C@@H]1CC(=O)OC</th>\n",
       "      <td>(1S,2R)-(-)-(Z) Methyl epijasmonate</td>\n",
       "      <td>12566815</td>\n",
       "      <td>1.000000e+99</td>\n",
       "      <td>NaN</td>\n",
       "      <td>odorless</td>\n",
       "    </tr>\n",
       "    <tr>\n",
       "      <th>CCC[C@@H]1CCO[C@H](C)S1</th>\n",
       "      <td>(2S,4R)-(+) cis-2-methyl-4-propyl-1,3-oxathiane</td>\n",
       "      <td>6931728</td>\n",
       "      <td>2.000000e+00</td>\n",
       "      <td>ppb</td>\n",
       "      <td>\\xe2\\x80\\x9ctypical sulfurous, with a rubbery ...</td>\n",
       "    </tr>\n",
       "    <tr>\n",
       "      <th>CCC[C@H]1CCO[C@@H](C)S1</th>\n",
       "      <td>(2R,4S)-(-) cis-2-methyl-4-propyl-1,3-oxathiane</td>\n",
       "      <td>6931725</td>\n",
       "      <td>4.000000e+00</td>\n",
       "      <td>ppb</td>\n",
       "      <td>was found weaker (compare thresholds)and \\xe2\\...</td>\n",
       "    </tr>\n",
       "    <tr>\n",
       "      <th>CCCCC[C@@H]1C(=O)CC[C@@H]1CC(=O)OC</th>\n",
       "      <td>(1R,2S)-(+)-Methyl epidihydrojasmonate</td>\n",
       "      <td>1738122</td>\n",
       "      <td>1.500000e+01</td>\n",
       "      <td>ppb</td>\n",
       "      <td>intensely floral, jasminelike, bright, cis-jas...</td>\n",
       "    </tr>\n",
       "    <tr>\n",
       "      <th>CCCCC[C@H]1C(=O)CC[C@H]1CC(=O)OC</th>\n",
       "      <td>(1S,2R)-(-)-Methyl epidihydrojasmonate</td>\n",
       "      <td>1738127</td>\n",
       "      <td>1.250000e+04</td>\n",
       "      <td>ppb</td>\n",
       "      <td>herbal, fatty, tea-like, tobacco, \\xc3\\x9f-dam...</td>\n",
       "    </tr>\n",
       "  </tbody>\n",
       "</table>\n",
       "</div>"
      ],
      "text/plain": [
       "                                                                                  Molecule Name  \\\n",
       "C=C(C)[C@@H]1CC=C(C)C(=O)C1                                                    (4S)-(+)-carvone   \n",
       "C=C(C)[C@H]1CC=C(C)C(=O)C1                                                     (4R)-(-)-carvone   \n",
       "C=C(C)[C@@H]1CCC2=CC(=O)C[C@@H](C)[C@]2(C)C1                         (4R,4aS,6R)-(+) nootkatone   \n",
       "C=C(C)[C@H]1CCC2=CC(=O)C[C@H](C)[C@@]2(C)C1                          (4S,4aR,6S)-(-) nootkatone   \n",
       "C=C1CCCC(C)(C)[C@@H]1/C=C/C(C)=O                                           (S)-(+)-gamma-ionone   \n",
       "C=C1CCCC(C)(C)[C@H]1/C=C/C(C)=O                                            (R)-(-)-gamma-ionone   \n",
       "C=C[C@@H](O)CCCCC                                                         (S)-(+)-1-octen-3-ol    \n",
       "C=C[C@H](O)CCCCC                                                          (R)-(-)-1-octen-3-ol    \n",
       "C=C[C@@]1(C)CC[C@H]([C@@H](C)C=O)O1                               (2R,2\\'R,5\\'R)-Lilac aldehyde   \n",
       "C=C[C@]1(C)CC[C@@H]([C@H](C)C=O)O1                                (2S,2\\'S,5\\'S)-Lilac aldehyde   \n",
       "CC(=O)/C=C/[C@H]1C(C)=CC[C@@H](C)C1(C)C                             (1S,5R)-(+)-cis-alpha-irone   \n",
       "CC(=O)/C=C/[C@@H]1C(C)=CC[C@H](C)C1(C)C                             (1R,5S)-(-)-cis-alpha-irone   \n",
       "CC(C)=C[C@@H]1C[C@H](C)CCO1                                          (4S,2R)-(+)-cis-rose oxide   \n",
       "CC(C)=C[C@H]1C[C@@H](C)CCO1                                          (4R,2S)-(-)-cis-rose oxide   \n",
       "CC1=CC[C@H](C(C)(C)S)CC1                                           (R)-(+)-1-p-menthen- 8-thiol   \n",
       "CC1=CC[C@@H](C(C)(C)S)CC1                                           (S)-(-)-1-p-menthen-8-thiol   \n",
       "C[C@H]1CCCCCCCCCCCCC(=O)C1                    (S)-(+)- muscone/(S)-(+)-3-methyl cyclopentade...   \n",
       "C[C@@H]1CCCCCCCCCCCCC(=O)C1                   (R)-(-)- muscone/(R)--3-methyl cyclopentadecanone   \n",
       "C[C@@H]1COCc2cc3c(cc21)C(C)(C)[C@H](C)C3(C)C                             (4R,7R)-(+)-galaxolide   \n",
       "C[C@H]1COCc2cc3c(cc21)C(C)(C)[C@@H](C)C3(C)C                             (4S,7S)-(-)-galaxolide   \n",
       "C/C=C/C(=O)[C@H]1C(C)=CCCC1(C)C                                     (R)-(+)-(E)-alpha-damascone   \n",
       "C/C=C/C(=O)[C@@H]1C(C)=CCCC1(C)C                                    (S)-(-)-(E)-alpha-damascone   \n",
       "CC[C@@H](C)C=O                                                          (S)-(+)-2-methylbutanal   \n",
       "CC[C@H](C)C=O                                                           (R)-(-)-2-methylbutanal   \n",
       "CC/C=C(\\C)[C@H](O)CCCCC                                                    (R)-(+)-undecavertol   \n",
       "CC/C=C(\\C)C(O)CCCCC                                                        (S)-(-)-undecavertol   \n",
       "CC/C=C/C[C@H]1C(=O)CC[C@H]1CC(=O)OC                         (1R,2S)-(+)-(Z) Methyl epijasmonate   \n",
       "CC/C=C\\C[C@@H]1C(=O)CC[C@@H]1CC(=O)OC                       (1S,2R)-(-)-(Z) Methyl epijasmonate   \n",
       "CCC[C@@H]1CCO[C@H](C)S1                         (2S,4R)-(+) cis-2-methyl-4-propyl-1,3-oxathiane   \n",
       "CCC[C@H]1CCO[C@@H](C)S1                         (2R,4S)-(-) cis-2-methyl-4-propyl-1,3-oxathiane   \n",
       "CCCCC[C@@H]1C(=O)CC[C@@H]1CC(=O)OC                       (1R,2S)-(+)-Methyl epidihydrojasmonate   \n",
       "CCCCC[C@H]1C(=O)CC[C@H]1CC(=O)OC                         (1S,2R)-(-)-Methyl epidihydrojasmonate   \n",
       "\n",
       "                                              Pubchem ID #  \\\n",
       "C=C(C)[C@@H]1CC=C(C)C(=O)C1                          16724   \n",
       "C=C(C)[C@H]1CC=C(C)C(=O)C1                          439570   \n",
       "C=C(C)[C@@H]1CCC2=CC(=O)C[C@@H](C)[C@]2(C)C1       1268142   \n",
       "C=C(C)[C@H]1CCC2=CC(=O)C[C@H](C)[C@@]2(C)C1        7567181   \n",
       "C=C1CCCC(C)(C)[C@@H]1/C=C/C(C)=O                  11194862   \n",
       "C=C1CCCC(C)(C)[C@H]1/C=C/C(C)=O                   11389922   \n",
       "C=C[C@@H](O)CCCCC                                  2724898   \n",
       "C=C[C@H](O)CCCCC                                   6992244   \n",
       "C=C[C@@]1(C)CC[C@H]([C@@H](C)C=O)O1               71587756   \n",
       "C=C[C@]1(C)CC[C@@H]([C@H](C)C=O)O1                  441572   \n",
       "CC(=O)/C=C/[C@H]1C(C)=CC[C@@H](C)C1(C)C            5281521   \n",
       "CC(=O)/C=C/[C@@H]1C(C)=CC[C@H](C)C1(C)C           11009095   \n",
       "CC(C)=C[C@@H]1C[C@H](C)CCO1                        6432154   \n",
       "CC(C)=C[C@H]1C[C@@H](C)CCO1                        1712087   \n",
       "CC1=CC[C@H](C(C)(C)S)CC1                          44152305   \n",
       "CC1=CC[C@@H](C(C)(C)S)CC1                         10877566   \n",
       "C[C@H]1CCCCCCCCCCCCC(=O)C1                         7160827   \n",
       "C[C@@H]1CCCCCCCCCCCCC(=O)C1                        7160826   \n",
       "C[C@@H]1COCc2cc3c(cc21)C(C)(C)[C@H](C)C3(C)C      14177988   \n",
       "C[C@H]1COCc2cc3c(cc21)C(C)(C)[C@@H](C)C3(C)C      14177991   \n",
       "C/C=C/C(=O)[C@H]1C(C)=CCCC1(C)C                    1268130   \n",
       "C/C=C/C(=O)[C@@H]1C(C)=CCCC1(C)C                   1268132   \n",
       "CC[C@@H](C)C=O                                     6971249   \n",
       "CC[C@H](C)C=O                                      6971248   \n",
       "CC/C=C(\\C)[C@H](O)CCCCC                           40428776   \n",
       "CC/C=C(\\C)C(O)CCCCC                               40565487   \n",
       "CC/C=C/C[C@H]1C(=O)CC[C@H]1CC(=O)OC                6427970   \n",
       "CC/C=C\\C[C@@H]1C(=O)CC[C@@H]1CC(=O)OC             12566815   \n",
       "CCC[C@@H]1CCO[C@H](C)S1                            6931728   \n",
       "CCC[C@H]1CCO[C@@H](C)S1                            6931725   \n",
       "CCCCC[C@@H]1C(=O)CC[C@@H]1CC(=O)OC                 1738122   \n",
       "CCCCC[C@H]1C(=O)CC[C@H]1CC(=O)OC                   1738127   \n",
       "\n",
       "                                              Detection Threshold  \\\n",
       "C=C(C)[C@@H]1CC=C(C)C(=O)C1                          1.300000e+02   \n",
       "C=C(C)[C@H]1CC=C(C)C(=O)C1                           2.000000e+00   \n",
       "C=C(C)[C@@H]1CCC2=CC(=O)C[C@@H](C)[C@]2(C)C1         1.500000e+01   \n",
       "C=C(C)[C@H]1CCC2=CC(=O)C[C@H](C)[C@@]2(C)C1          6.600000e+04   \n",
       "C=C1CCCC(C)(C)[C@@H]1/C=C/C(C)=O                     7.000000e-02   \n",
       "C=C1CCCC(C)(C)[C@H]1/C=C/C(C)=O                      1.100000e+01   \n",
       "C=C[C@@H](O)CCCCC                                    1.000000e+02   \n",
       "C=C[C@H](O)CCCCC                                     1.000000e+01   \n",
       "C=C[C@@]1(C)CC[C@H]([C@@H](C)C=O)O1                  2.200000e+01   \n",
       "C=C[C@]1(C)CC[C@@H]([C@H](C)C=O)O1                   2.000000e-01   \n",
       "CC(=O)/C=C/[C@H]1C(C)=CC[C@@H](C)C1(C)C              1.000000e+05   \n",
       "CC(=O)/C=C/[C@@H]1C(C)=CC[C@H](C)C1(C)C              1.000000e+04   \n",
       "CC(C)=C[C@@H]1C[C@H](C)CCO1                          5.000000e+01   \n",
       "CC(C)=C[C@H]1C[C@@H](C)CCO1                          5.000000e-01   \n",
       "CC1=CC[C@H](C(C)(C)S)CC1                             2.000000e-05   \n",
       "CC1=CC[C@@H](C(C)(C)S)CC1                            8.000000e-04   \n",
       "C[C@H]1CCCCCCCCCCCCC(=O)C1                           2.330000e+02   \n",
       "C[C@@H]1CCCCCCCCCCCCC(=O)C1                          6.100000e+01   \n",
       "C[C@@H]1COCc2cc3c(cc21)C(C)(C)[C@H](C)C3(C)C         4.400000e-01   \n",
       "C[C@H]1COCc2cc3c(cc21)C(C)(C)[C@@H](C)C3(C)C         1.000000e-03   \n",
       "C/C=C/C(=O)[C@H]1C(C)=CCCC1(C)C                      1.000000e+02   \n",
       "C/C=C/C(=O)[C@@H]1C(C)=CCCC1(C)C                     1.500000e+00   \n",
       "CC[C@@H](C)C=O                                       1.000000e+01   \n",
       "CC[C@H](C)C=O                                        1.000000e+02   \n",
       "CC/C=C(\\C)[C@H](O)CCCCC                              3.100000e-01   \n",
       "CC/C=C(\\C)C(O)CCCCC                                  4.700000e+00   \n",
       "CC/C=C/C[C@H]1C(=O)CC[C@H]1CC(=O)OC                  3.000000e+00   \n",
       "CC/C=C\\C[C@@H]1C(=O)CC[C@@H]1CC(=O)OC                1.000000e+99   \n",
       "CCC[C@@H]1CCO[C@H](C)S1                              2.000000e+00   \n",
       "CCC[C@H]1CCO[C@@H](C)S1                              4.000000e+00   \n",
       "CCCCC[C@@H]1C(=O)CC[C@@H]1CC(=O)OC                   1.500000e+01   \n",
       "CCCCC[C@H]1C(=O)CC[C@H]1CC(=O)OC                     1.250000e+04   \n",
       "\n",
       "                                                     Detection Units  \\\n",
       "C=C(C)[C@@H]1CC=C(C)C(=O)C1                                     ppb    \n",
       "C=C(C)[C@H]1CC=C(C)C(=O)C1                                       ppb   \n",
       "C=C(C)[C@@H]1CCC2=CC(=O)C[C@@H](C)[C@]2(C)C1                     ppm   \n",
       "C=C(C)[C@H]1CCC2=CC(=O)C[C@H](C)[C@@]2(C)C1                      ppm   \n",
       "C=C1CCCC(C)(C)[C@@H]1/C=C/C(C)=O                           ppb water   \n",
       "C=C1CCCC(C)(C)[C@H]1/C=C/C(C)=O                            ppb water   \n",
       "C=C[C@@H](O)CCCCC                             ppb in aqueous ethanol   \n",
       "C=C[C@H](O)CCCCC                              ppb in aqueous ethanol   \n",
       "C=C[C@@]1(C)CC[C@H]([C@@H](C)C=O)O1                               ng   \n",
       "C=C[C@]1(C)CC[C@@H]([C@H](C)C=O)O1                                ng   \n",
       "CC(=O)/C=C/[C@H]1C(C)=CC[C@@H](C)C1(C)C                          ppb   \n",
       "CC(=O)/C=C/[C@@H]1C(C)=CC[C@H](C)C1(C)C                          ppb   \n",
       "CC(C)=C[C@@H]1C[C@H](C)CCO1                                      ppb   \n",
       "CC(C)=C[C@H]1C[C@@H](C)CCO1                                      ppb   \n",
       "CC1=CC[C@H](C(C)(C)S)CC1                                        ppb    \n",
       "CC1=CC[C@@H](C(C)(C)S)CC1                                        ppb   \n",
       "C[C@H]1CCCCCCCCCCCCC(=O)C1                                       ppb   \n",
       "C[C@@H]1CCCCCCCCCCCCC(=O)C1                                      ppb   \n",
       "C[C@@H]1COCc2cc3c(cc21)C(C)(C)[C@H](C)C3(C)C              ppb in air   \n",
       "C[C@H]1COCc2cc3c(cc21)C(C)(C)[C@@H](C)C3(C)C              ppb in air   \n",
       "C/C=C/C(=O)[C@H]1C(C)=CCCC1(C)C                                  ppb   \n",
       "C/C=C/C(=O)[C@@H]1C(C)=CCCC1(C)C                                 ppb   \n",
       "CC[C@@H](C)C=O                                                in air   \n",
       "CC[C@H](C)C=O                                                 in air   \n",
       "CC/C=C(\\C)[C@H](O)CCCCC                                     ng/L air   \n",
       "CC/C=C(\\C)C(O)CCCCC                                         ng/L air   \n",
       "CC/C=C/C[C@H]1C(=O)CC[C@H]1CC(=O)OC                              ppb   \n",
       "CC/C=C\\C[C@@H]1C(=O)CC[C@@H]1CC(=O)OC                            NaN   \n",
       "CCC[C@@H]1CCO[C@H](C)S1                                          ppb   \n",
       "CCC[C@H]1CCO[C@@H](C)S1                                          ppb   \n",
       "CCCCC[C@@H]1C(=O)CC[C@@H]1CC(=O)OC                               ppb   \n",
       "CCCCC[C@H]1C(=O)CC[C@H]1CC(=O)OC                                 ppb   \n",
       "\n",
       "                                                                                 Molecule Odour  \n",
       "C=C(C)[C@@H]1CC=C(C)C(=O)C1                                               caraway, fresh herbal  \n",
       "C=C(C)[C@H]1CC=C(C)C(=O)C1                                        sweet spearmint, fresh herbal  \n",
       "C=C(C)[C@@H]1CCC2=CC(=O)C[C@@H](C)[C@]2(C)C1                                    grapefruit odor  \n",
       "C=C(C)[C@H]1CCC2=CC(=O)C[C@H](C)[C@@]2(C)C1                                     woody and spicy  \n",
       "C=C1CCCC(C)(C)[C@@H]1/C=C/C(C)=O              Linear, very pleasant, floral, green, woody od...  \n",
       "C=C1CCCC(C)(C)[C@H]1/C=C/C(C)=O               Weak green, fruity, pineapple-like odor with m...  \n",
       "C=C[C@@H](O)CCCCC                             moldy, grassy, artificial; also desribed as he...  \n",
       "C=C[C@H](O)CCCCC                              fruity, genuine mushroom-like; also desribed a...  \n",
       "C=C[C@@]1(C)CC[C@H]([C@@H](C)C=O)O1                                                     flowery  \n",
       "C=C[C@]1(C)CC[C@@H]([C@H](C)C=O)O1                                               fresh, flowery  \n",
       "CC(=O)/C=C/[C@H]1C(C)=CC[C@@H](C)C1(C)C       iris, sweet irone odour, woody ionone, floral,...  \n",
       "CC(=O)/C=C/[C@@H]1C(C)=CC[C@H](C)C1(C)C       odourless (Galfry, et.al, by GC sniffing); In ...  \n",
       "CC(C)=C[C@@H]1C[C@H](C)CCO1                   herbal, green floral, hay green, earthy, heavy...  \n",
       "CC(C)=C[C@H]1C[C@@H](C)CCO1                   floral green with clean sharp, light, rose gre...  \n",
       "CC1=CC[C@H](C(C)(C)S)CC1                                pleasant odor of fresh grapefruit juice  \n",
       "CC1=CC[C@@H](C(C)(C)S)CC1                                               weak, nonspecific odor.  \n",
       "C[C@H]1CCCCCCCCCCCCC(=O)C1                                                   poor, weakly musky  \n",
       "C[C@@H]1CCCCCCCCCCCCC(=O)C1                                               rich, powerful, musky  \n",
       "C[C@@H]1COCc2cc3c(cc21)C(C)(C)[C@H](C)C3(C)C                           weak to almost odorless   \n",
       "C[C@H]1COCc2cc3c(cc21)C(C)(C)[C@@H](C)C3(C)C                                 powerful musk odor  \n",
       "C/C=C/C(=O)[C@H]1C(C)=CCCC1(C)C               odor character was reminiscent of rose petals,...  \n",
       "C/C=C/C(=O)[C@@H]1C(C)=CCCC1(C)C              floral, reminiscent of rose petals and charact...  \n",
       "CC[C@@H](C)C=O                                pungent, fresh, fruity (Boelens, et. al.); Pec...  \n",
       "CC[C@H](C)C=O                                 pungent, caprylic (Boelens, et. al.); Peculiar...  \n",
       "CC/C=C(\\C)[C@H](O)CCCCC                       similar to the racemate smell floral, green, f...  \n",
       "CC/C=C(\\C)C(O)CCCCC                           green fruit with a hint of balsam pinefiru and...  \n",
       "CC/C=C/C[C@H]1C(=O)CC[C@H]1CC(=O)OC                                  strong, jasmine- like odor  \n",
       "CC/C=C\\C[C@@H]1C(=O)CC[C@@H]1CC(=O)OC                                                  odorless  \n",
       "CCC[C@@H]1CCO[C@H](C)S1                       \\xe2\\x80\\x9ctypical sulfurous, with a rubbery ...  \n",
       "CCC[C@H]1CCO[C@@H](C)S1                       was found weaker (compare thresholds)and \\xe2\\...  \n",
       "CCCCC[C@@H]1C(=O)CC[C@@H]1CC(=O)OC            intensely floral, jasminelike, bright, cis-jas...  \n",
       "CCCCC[C@H]1C(=O)CC[C@H]1CC(=O)OC              herbal, fatty, tea-like, tobacco, \\xc3\\x9f-dam...  "
      ]
     },
     "execution_count": 12,
     "metadata": {},
     "output_type": "execute_result"
    }
   ],
   "source": [
    "shadmany_data"
   ]
  },
  {
   "cell_type": "markdown",
   "metadata": {
    "deletable": true,
    "editable": true
   },
   "source": [
    "## Compute DREAM molecule features and place into a data frame"
   ]
  },
  {
   "cell_type": "code",
   "execution_count": 13,
   "metadata": {
    "collapsed": false,
    "deletable": true,
    "editable": true
   },
   "outputs": [
    {
     "name": "stdout",
     "output_type": "stream",
     "text": [
      "507 similarity features for 507 molecules\n"
     ]
    }
   ],
   "source": [
    "# Compute Morgan features for DREAM molecules\n",
    "all_smiles = list(set(dream_smiles + shadmany_smiles))\n",
    "morgan_sim_all = a.smiles_to_morgan_sim(all_smiles,all_smiles)"
   ]
  },
  {
   "cell_type": "code",
   "execution_count": 14,
   "metadata": {
    "collapsed": false,
    "deletable": true,
    "editable": true
   },
   "outputs": [],
   "source": [
    "# Compute NSPDK features for DREAM molecules\n",
    "if a.HAS_OBABEL:\n",
    "    nspdk_all = a.smiles_to_nspdk(all_smiles)\n",
    "else:\n",
    "    nspdk_all = []"
   ]
  },
  {
   "cell_type": "code",
   "execution_count": 15,
   "metadata": {
    "collapsed": false,
    "deletable": true,
    "editable": true
   },
   "outputs": [
    {
     "name": "stdout",
     "output_type": "stream",
     "text": [
      "Convering SMILES string to Mol format...\n",
      "Computing 3D coordinates...\n",
      "Computing Mordred features...\n"
     ]
    },
    {
     "name": "stderr",
     "output_type": "stream",
     "text": [
      "100%|██████████| 507/507 [00:20<00:00, 24.35it/s]\n"
     ]
    },
    {
     "name": "stdout",
     "output_type": "stream",
     "text": [
      "There are 507 molecules and 1824 features\n"
     ]
    }
   ],
   "source": [
    "# Compute Dragon or Mordred features for DREAM molecules\n",
    "if a.USE_DRAGON:\n",
    "    dragon_all = a.smiles_to_dragon(all_smiles)\n",
    "else:\n",
    "    dragon_all = a.smiles_to_mordred(all_smiles)"
   ]
  },
  {
   "cell_type": "code",
   "execution_count": 16,
   "metadata": {
    "collapsed": false,
    "deletable": true,
    "editable": true
   },
   "outputs": [],
   "source": [
    "# Combine all DREAM molecular features into one dataframe\n",
    "molecular_data_all = dragon_all.join(nspdk_all).join(morgan_sim_all).astype('float')"
   ]
  },
  {
   "cell_type": "code",
   "execution_count": 17,
   "metadata": {
    "collapsed": false,
    "deletable": true,
    "editable": true
   },
   "outputs": [],
   "source": [
    "molecular_data_dream = molecular_data_all.loc[dream_smiles]\n",
    "# Reindex by the CIDs instead of the SMILES strings\n",
    "assert list(molecular_data_dream.index)==dream_smiles\n",
    "molecular_data_dream.index = dream_CIDs"
   ]
  },
  {
   "cell_type": "code",
   "execution_count": 18,
   "metadata": {
    "collapsed": false,
    "deletable": true,
    "editable": true
   },
   "outputs": [
    {
     "name": "stdout",
     "output_type": "stream",
     "text": [
      "The X matrix now has shape (952x1711) molecules by non-NaN good molecular descriptors\n"
     ]
    }
   ],
   "source": [
    "# Compute the final DREAM molecular features matrix.  \n",
    "X_dream,good1,good2,means,stds,imputer = a.dream.make_X(molecular_data_dream,dream_CID_dilutions)"
   ]
  },
  {
   "cell_type": "code",
   "execution_count": 19,
   "metadata": {
    "collapsed": false,
    "deletable": true,
    "editable": true
   },
   "outputs": [
    {
     "name": "stdout",
     "output_type": "stream",
     "text": [
      "The X matrix now has shape (32x1711) molecules by non-NaN good molecular descriptors\n"
     ]
    }
   ],
   "source": [
    "dummy_intensity = -3.0\n",
    "shadmany_CIDs = [shadmany_data.loc[smile]['Pubchem ID #'] for smile in shadmany_smiles]\n",
    "shadmany_CID_dilutions = [(shadmany_data.loc[smile]['Pubchem ID #'],dummy_intensity) for smile in shadmany_smiles]\n",
    "molecular_data_shadmany = molecular_data_all.loc[shadmany_smiles]\n",
    "assert list(molecular_data_shadmany.index) == shadmany_smiles\n",
    "molecular_data_shadmany.index = shadmany_CIDs\n",
    "X_shadmany = a.dream.make_X(molecular_data_shadmany,shadmany_CID_dilutions,\n",
    "                            good1=good1,good2=good2,means=means,stds=stds)[0]\n",
    "# Reorder molecules to match the order in the spreadsheet\n",
    "X_shadmany = X_shadmany.loc[[(cid,dummy_intensity) for cid in shadmany_data['Pubchem ID #']]]\n",
    "# Confirm that the order matches\n",
    "assert list(X_shadmany.index.get_level_values('CID')) == list(shadmany_data['Pubchem ID #'])"
   ]
  },
  {
   "cell_type": "markdown",
   "metadata": {
    "deletable": true,
    "editable": true
   },
   "source": [
    "## Fit model to DREAM data"
   ]
  },
  {
   "cell_type": "code",
   "execution_count": 20,
   "metadata": {
    "collapsed": false,
    "deletable": true,
    "editable": true
   },
   "outputs": [
    {
     "name": "stdout",
     "output_type": "stream",
     "text": [
      "1. Fitting model for Intensity...\n"
     ]
    }
   ],
   "source": [
    "# Model for DREAM data\n",
    "rfs = {}\n",
    "n_estimators = 25\n",
    "these_descriptors = a.descriptors[:1] # Just intensity\n",
    "Y_dream_mean = Y_dream.stack('Descriptor').mean(axis=1).unstack('Descriptor')\n",
    "for i,descriptor in enumerate(these_descriptors):\n",
    "    print(\"%d. Fitting model for %s...\" % (i+1,descriptor))\n",
    "    rfs[descriptor] = a.RandomForestRegressor(n_estimators=n_estimators)\n",
    "    valid = Y_dream_mean[descriptor].notnull()\n",
    "    rfs[descriptor].fit(X_dream.loc[valid],Y_dream_mean[descriptor].loc[valid])"
   ]
  },
  {
   "cell_type": "code",
   "execution_count": 21,
   "metadata": {
    "collapsed": false,
    "deletable": true,
    "editable": true
   },
   "outputs": [
    {
     "name": "stdout",
     "output_type": "stream",
     "text": [
      "0.733350370187\n",
      "0.595157963345\n",
      "0.642733616677\n"
     ]
    }
   ],
   "source": [
    "# Check model quality by cross-validation on the DREAM data.  \n",
    "from sklearn.model_selection import GroupShuffleSplit\n",
    "x = X_dream.loc[valid]\n",
    "y = Y_dream_mean[descriptor].loc[valid]\n",
    "groups = x.index.get_level_values('CID')\n",
    "ss = GroupShuffleSplit(n_splits=3)\n",
    "for train,test in ss.split(x,groups=groups):\n",
    "    rfs['Intensity'] = a.RandomForestRegressor(n_estimators=25,random_state=0)\n",
    "    rfs['Intensity'].fit(x.iloc[train],y.iloc[train])\n",
    "    predicted = rfs['Intensity'].predict(x.iloc[test])\n",
    "    observed = y.iloc[test]\n",
    "    print(a.np.corrcoef(predicted,observed)[0,1])"
   ]
  },
  {
   "cell_type": "markdown",
   "metadata": {
    "deletable": true,
    "editable": true
   },
   "source": [
    "## Compute predictions and display"
   ]
  },
  {
   "cell_type": "code",
   "execution_count": 22,
   "metadata": {
    "collapsed": false,
    "deletable": true,
    "editable": true
   },
   "outputs": [
    {
     "data": {
      "image/png": "[encoded data removed]",
      "text/plain": [
       "<matplotlib.figure.Figure at 0x1134b62e8>"
      ]
     },
     "metadata": {},
     "output_type": "display_data"
    },
    {
     "data": {
      "text/plain": [
       "<matplotlib.figure.Figure at 0x112f203c8>"
      ]
     },
     "metadata": {},
     "output_type": "display_data"
    }
   ],
   "source": [
    "a.compare_smiles_lengths(dream_smiles,shadmany_smiles,['DREAM','Enantiomers'])"
   ]
  },
  {
   "cell_type": "code",
   "execution_count": 23,
   "metadata": {
    "collapsed": false,
    "deletable": true,
    "editable": true
   },
   "outputs": [
    {
     "data": {
      "image/png": "[encoded data removed]",
      "text/plain": [
       "<matplotlib.figure.Figure at 0x112ccd1d0>"
      ]
     },
     "metadata": {},
     "output_type": "display_data"
    }
   ],
   "source": [
    "a.compare_molecular_weights(molecular_data_dream,molecular_data_shadmany,['DREAM','Enantiomers'])"
   ]
  },
  {
   "cell_type": "code",
   "execution_count": 24,
   "metadata": {
    "collapsed": false,
    "deletable": true,
    "editable": true
   },
   "outputs": [
    {
     "data": {
      "text/plain": [
       "Ttest_indResult(statistic=-3.9642285463016336, pvalue=8.4235836937982726e-05)"
      ]
     },
     "execution_count": 24,
     "metadata": {},
     "output_type": "execute_result"
    }
   ],
   "source": [
    "from scipy.stats import ttest_ind as ttest\n",
    "x1 = molecular_data_dream['MW']\n",
    "x2 = molecular_data_shadmany['MW']\n",
    "ttest(x1,x2)"
   ]
  },
  {
   "cell_type": "code",
   "execution_count": 25,
   "metadata": {
    "collapsed": false,
    "deletable": true,
    "editable": true
   },
   "outputs": [],
   "source": [
    "predictions = a.make_predictions(rfs,X_shadmany,['Intensity'])"
   ]
  },
  {
   "cell_type": "code",
   "execution_count": 26,
   "metadata": {
    "collapsed": true,
    "deletable": true,
    "editable": true
   },
   "outputs": [],
   "source": [
    "plus_pred = predictions.iloc[0::2]['Intensity'].values\n",
    "minus_pred = predictions.iloc[1::2]['Intensity'].values"
   ]
  },
  {
   "cell_type": "code",
   "execution_count": 27,
   "metadata": {
    "collapsed": false,
    "deletable": true,
    "editable": true
   },
   "outputs": [
    {
     "data": {
      "image/png": "[encoded data removed]",
      "text/plain": [
       "<matplotlib.figure.Figure at 0x112cfbba8>"
      ]
     },
     "metadata": {},
     "output_type": "display_data"
    }
   ],
   "source": [
    "a.plt.scatter(plus_pred,minus_pred)\n",
    "a.plt.plot([0,100],[0,100],'--')\n",
    "a.plt.xlabel('(+) intensity prediction')\n",
    "a.plt.ylabel('(-) intensity prediction')\n",
    "a.plt.show()"
   ]
  },
  {
   "cell_type": "code",
   "execution_count": 28,
   "metadata": {
    "collapsed": false,
    "deletable": true,
    "editable": true
   },
   "outputs": [],
   "source": [
    "plus_thresh = shadmany_data.iloc[0::2]['Detection Threshold'].values\n",
    "minus_thresh = shadmany_data.iloc[1::2]['Detection Threshold'].values\n",
    "plus_thresh = a.np.clip(plus_thresh,1e-8,1e8)\n",
    "minus_thresh = a.np.clip(minus_thresh,1e-8,1e8)"
   ]
  },
  {
   "cell_type": "code",
   "execution_count": 29,
   "metadata": {
    "collapsed": false,
    "deletable": true,
    "editable": true
   },
   "outputs": [
    {
     "data": {
      "image/png": "[encoded data removed]",
      "text/plain": [
       "<matplotlib.figure.Figure at 0x113a8d588>"
      ]
     },
     "metadata": {},
     "output_type": "display_data"
    }
   ],
   "source": [
    "a.plt.scatter(plus_thresh,minus_thresh)\n",
    "a.plt.plot([1e-6,1e7],[1e-6,1e7],'--')\n",
    "a.plt.xlim(1e-8,1e8)\n",
    "a.plt.xlim(1e-8,1e8)\n",
    "a.plt.xscale('log')\n",
    "a.plt.yscale('log')\n",
    "a.plt.xlabel('(+) detection threshold')\n",
    "a.plt.ylabel('(-) detection threshold')\n",
    "a.plt.show()"
   ]
  },
  {
   "cell_type": "code",
   "execution_count": 36,
   "metadata": {
    "collapsed": false,
    "deletable": true,
    "editable": true
   },
   "outputs": [
    {
     "data": {
      "image/png": "[encoded data removed]",
      "text/plain": [
       "<matplotlib.figure.Figure at 0x11ec4c7f0>"
      ]
     },
     "metadata": {},
     "output_type": "display_data"
    }
   ],
   "source": [
    "delta_pred = plus_pred - minus_pred\n",
    "delta_thresh = a.np.log10(minus_thresh / plus_thresh)\n",
    "inds = delta_thresh.argsort()\n",
    "delta_pred = delta_pred[inds]\n",
    "delta_thresh = delta_thresh[inds]\n",
    "negative = delta_thresh < 0\n",
    "delta_thresh[negative] *= -1\n",
    "delta_pred[negative] *= -1\n",
    "a.plt.scatter(delta_pred,delta_thresh)\n",
    "a.plt.xlabel('Predicted intensity difference (+) vs (-)')\n",
    "a.plt.ylabel('Actual detection threshold difference\\n in log units (+) vs (-)')\n",
    "a.plt.plot([0,0],[0,8],'--')\n",
    "a.plt.show()"
   ]
  },
  {
   "cell_type": "code",
   "execution_count": 33,
   "metadata": {
    "collapsed": false,
    "deletable": true,
    "editable": true
   },
   "outputs": [
    {
     "name": "stdout",
     "output_type": "stream",
     "text": [
      "Correlation coefficient R = nan\n"
     ]
    },
    {
     "name": "stderr",
     "output_type": "stream",
     "text": [
      "/Users/rgerkin/Dropbox/miniconda3/lib/python3.5/site-packages/numpy/lib/function_base.py:3162: RuntimeWarning: invalid value encountered in true_divide\n",
      "  c /= stddev[:, None]\n",
      "/Users/rgerkin/Dropbox/miniconda3/lib/python3.5/site-packages/numpy/lib/function_base.py:3163: RuntimeWarning: invalid value encountered in true_divide\n",
      "  c /= stddev[None, :]\n"
     ]
    }
   ],
   "source": [
    "print(\"Correlation coefficient R = %.3f\" % a.np.corrcoef(delta_pred,delta_thresh)[0,1])"
   ]
  },
  {
   "cell_type": "code",
   "execution_count": 34,
   "metadata": {
    "collapsed": false,
    "deletable": true,
    "editable": true
   },
   "outputs": [
    {
     "data": {
      "image/png": "[encoded data removed]",
      "text/plain": [
       "<matplotlib.figure.Figure at 0x103ea7ac8>"
      ]
     },
     "metadata": {},
     "output_type": "display_data"
    },
    {
     "name": "stdout",
     "output_type": "stream",
     "text": [
      "Correlation between predicted intensity and actual detection thresholds is R=-0.152\n"
     ]
    }
   ],
   "source": [
    "a.plt.scatter(plus_thresh,plus_pred,color='r',label='(+)')\n",
    "a.plt.scatter(minus_thresh,minus_pred,color='b',label='(-)')\n",
    "a.plt.xscale('log')\n",
    "a.plt.xlim(1e-9,1e9)\n",
    "a.plt.xlabel('Detection Threshold')\n",
    "a.plt.ylabel('Predicted Intensity')\n",
    "a.plt.legend()\n",
    "a.plt.show()\n",
    "print(\"Correlation between predicted intensity and actual detection thresholds is R=%.3f\" % \\\n",
    "      a.np.corrcoef(a.np.concatenate((plus_thresh,minus_thresh)),a.np.concatenate((plus_pred,minus_pred)))[0,1])"
   ]
  }
 ],
 "metadata": {
  "kernelspec": {
   "display_name": "Python 3",
   "language": "python",
   "name": "python3"
  },
  "language_info": {
   "codemirror_mode": {
    "name": "ipython",
    "version": 3
   },
   "file_extension": ".py",
   "mimetype": "text/x-python",
   "name": "python",
   "nbconvert_exporter": "python",
   "pygments_lexer": "ipython3",
   "version": "3.5.2"
  }
 },
 "nbformat": 4,
 "nbformat_minor": 1
}
